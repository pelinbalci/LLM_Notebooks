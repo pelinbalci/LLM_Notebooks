{
  "nbformat": 4,
  "nbformat_minor": 0,
  "metadata": {
    "colab": {
      "provenance": [],
      "collapsed_sections": [
        "wXHua_bqUwlh"
      ],
      "gpuType": "T4",
      "authorship_tag": "ABX9TyOzxlUGvfzA8n2iXw9Oktev",
      "include_colab_link": true
    },
    "kernelspec": {
      "name": "python3",
      "display_name": "Python 3"
    },
    "language_info": {
      "name": "python"
    },
    "widgets": {
      "application/vnd.jupyter.widget-state+json": {
        "d8032ed8e6144f21b145329d8aa97dcb": {
          "model_module": "@jupyter-widgets/controls",
          "model_name": "HBoxModel",
          "model_module_version": "1.5.0",
          "state": {
            "_dom_classes": [],
            "_model_module": "@jupyter-widgets/controls",
            "_model_module_version": "1.5.0",
            "_model_name": "HBoxModel",
            "_view_count": null,
            "_view_module": "@jupyter-widgets/controls",
            "_view_module_version": "1.5.0",
            "_view_name": "HBoxView",
            "box_style": "",
            "children": [
              "IPY_MODEL_3e1f9e289eb14cec9271ec5352026b55",
              "IPY_MODEL_e949a4f9a06b4bd29b55eb9e8ac209cf",
              "IPY_MODEL_e91f961af340425fad143f6726c0c66f"
            ],
            "layout": "IPY_MODEL_2259d541703f45f181a8dce2b3fda10b"
          }
        },
        "3e1f9e289eb14cec9271ec5352026b55": {
          "model_module": "@jupyter-widgets/controls",
          "model_name": "HTMLModel",
          "model_module_version": "1.5.0",
          "state": {
            "_dom_classes": [],
            "_model_module": "@jupyter-widgets/controls",
            "_model_module_version": "1.5.0",
            "_model_name": "HTMLModel",
            "_view_count": null,
            "_view_module": "@jupyter-widgets/controls",
            "_view_module_version": "1.5.0",
            "_view_name": "HTMLView",
            "description": "",
            "description_tooltip": null,
            "layout": "IPY_MODEL_e86d79b5f3d9468f9791e80226da1967",
            "placeholder": "​",
            "style": "IPY_MODEL_34e908fcbfa840a19139884bba82ae1c",
            "value": "Downloading (…)lve/main/config.json: 100%"
          }
        },
        "e949a4f9a06b4bd29b55eb9e8ac209cf": {
          "model_module": "@jupyter-widgets/controls",
          "model_name": "FloatProgressModel",
          "model_module_version": "1.5.0",
          "state": {
            "_dom_classes": [],
            "_model_module": "@jupyter-widgets/controls",
            "_model_module_version": "1.5.0",
            "_model_name": "FloatProgressModel",
            "_view_count": null,
            "_view_module": "@jupyter-widgets/controls",
            "_view_module_version": "1.5.0",
            "_view_name": "ProgressView",
            "bar_style": "success",
            "description": "",
            "description_tooltip": null,
            "layout": "IPY_MODEL_76da74282aec4dbe8b31ea8287531caa",
            "max": 443,
            "min": 0,
            "orientation": "horizontal",
            "style": "IPY_MODEL_ef7e99e9ecaa4e6db5a5e2ca95e738b5",
            "value": 443
          }
        },
        "e91f961af340425fad143f6726c0c66f": {
          "model_module": "@jupyter-widgets/controls",
          "model_name": "HTMLModel",
          "model_module_version": "1.5.0",
          "state": {
            "_dom_classes": [],
            "_model_module": "@jupyter-widgets/controls",
            "_model_module_version": "1.5.0",
            "_model_name": "HTMLModel",
            "_view_count": null,
            "_view_module": "@jupyter-widgets/controls",
            "_view_module_version": "1.5.0",
            "_view_name": "HTMLView",
            "description": "",
            "description_tooltip": null,
            "layout": "IPY_MODEL_75436b5f165b4f478313cd90af8540c6",
            "placeholder": "​",
            "style": "IPY_MODEL_fd66d69d47d74248b68ca7a31ad5ef35",
            "value": " 443/443 [00:00&lt;00:00, 14.9kB/s]"
          }
        },
        "2259d541703f45f181a8dce2b3fda10b": {
          "model_module": "@jupyter-widgets/base",
          "model_name": "LayoutModel",
          "model_module_version": "1.2.0",
          "state": {
            "_model_module": "@jupyter-widgets/base",
            "_model_module_version": "1.2.0",
            "_model_name": "LayoutModel",
            "_view_count": null,
            "_view_module": "@jupyter-widgets/base",
            "_view_module_version": "1.2.0",
            "_view_name": "LayoutView",
            "align_content": null,
            "align_items": null,
            "align_self": null,
            "border": null,
            "bottom": null,
            "display": null,
            "flex": null,
            "flex_flow": null,
            "grid_area": null,
            "grid_auto_columns": null,
            "grid_auto_flow": null,
            "grid_auto_rows": null,
            "grid_column": null,
            "grid_gap": null,
            "grid_row": null,
            "grid_template_areas": null,
            "grid_template_columns": null,
            "grid_template_rows": null,
            "height": null,
            "justify_content": null,
            "justify_items": null,
            "left": null,
            "margin": null,
            "max_height": null,
            "max_width": null,
            "min_height": null,
            "min_width": null,
            "object_fit": null,
            "object_position": null,
            "order": null,
            "overflow": null,
            "overflow_x": null,
            "overflow_y": null,
            "padding": null,
            "right": null,
            "top": null,
            "visibility": null,
            "width": null
          }
        },
        "e86d79b5f3d9468f9791e80226da1967": {
          "model_module": "@jupyter-widgets/base",
          "model_name": "LayoutModel",
          "model_module_version": "1.2.0",
          "state": {
            "_model_module": "@jupyter-widgets/base",
            "_model_module_version": "1.2.0",
            "_model_name": "LayoutModel",
            "_view_count": null,
            "_view_module": "@jupyter-widgets/base",
            "_view_module_version": "1.2.0",
            "_view_name": "LayoutView",
            "align_content": null,
            "align_items": null,
            "align_self": null,
            "border": null,
            "bottom": null,
            "display": null,
            "flex": null,
            "flex_flow": null,
            "grid_area": null,
            "grid_auto_columns": null,
            "grid_auto_flow": null,
            "grid_auto_rows": null,
            "grid_column": null,
            "grid_gap": null,
            "grid_row": null,
            "grid_template_areas": null,
            "grid_template_columns": null,
            "grid_template_rows": null,
            "height": null,
            "justify_content": null,
            "justify_items": null,
            "left": null,
            "margin": null,
            "max_height": null,
            "max_width": null,
            "min_height": null,
            "min_width": null,
            "object_fit": null,
            "object_position": null,
            "order": null,
            "overflow": null,
            "overflow_x": null,
            "overflow_y": null,
            "padding": null,
            "right": null,
            "top": null,
            "visibility": null,
            "width": null
          }
        },
        "34e908fcbfa840a19139884bba82ae1c": {
          "model_module": "@jupyter-widgets/controls",
          "model_name": "DescriptionStyleModel",
          "model_module_version": "1.5.0",
          "state": {
            "_model_module": "@jupyter-widgets/controls",
            "_model_module_version": "1.5.0",
            "_model_name": "DescriptionStyleModel",
            "_view_count": null,
            "_view_module": "@jupyter-widgets/base",
            "_view_module_version": "1.2.0",
            "_view_name": "StyleView",
            "description_width": ""
          }
        },
        "76da74282aec4dbe8b31ea8287531caa": {
          "model_module": "@jupyter-widgets/base",
          "model_name": "LayoutModel",
          "model_module_version": "1.2.0",
          "state": {
            "_model_module": "@jupyter-widgets/base",
            "_model_module_version": "1.2.0",
            "_model_name": "LayoutModel",
            "_view_count": null,
            "_view_module": "@jupyter-widgets/base",
            "_view_module_version": "1.2.0",
            "_view_name": "LayoutView",
            "align_content": null,
            "align_items": null,
            "align_self": null,
            "border": null,
            "bottom": null,
            "display": null,
            "flex": null,
            "flex_flow": null,
            "grid_area": null,
            "grid_auto_columns": null,
            "grid_auto_flow": null,
            "grid_auto_rows": null,
            "grid_column": null,
            "grid_gap": null,
            "grid_row": null,
            "grid_template_areas": null,
            "grid_template_columns": null,
            "grid_template_rows": null,
            "height": null,
            "justify_content": null,
            "justify_items": null,
            "left": null,
            "margin": null,
            "max_height": null,
            "max_width": null,
            "min_height": null,
            "min_width": null,
            "object_fit": null,
            "object_position": null,
            "order": null,
            "overflow": null,
            "overflow_x": null,
            "overflow_y": null,
            "padding": null,
            "right": null,
            "top": null,
            "visibility": null,
            "width": null
          }
        },
        "ef7e99e9ecaa4e6db5a5e2ca95e738b5": {
          "model_module": "@jupyter-widgets/controls",
          "model_name": "ProgressStyleModel",
          "model_module_version": "1.5.0",
          "state": {
            "_model_module": "@jupyter-widgets/controls",
            "_model_module_version": "1.5.0",
            "_model_name": "ProgressStyleModel",
            "_view_count": null,
            "_view_module": "@jupyter-widgets/base",
            "_view_module_version": "1.2.0",
            "_view_name": "StyleView",
            "bar_color": null,
            "description_width": ""
          }
        },
        "75436b5f165b4f478313cd90af8540c6": {
          "model_module": "@jupyter-widgets/base",
          "model_name": "LayoutModel",
          "model_module_version": "1.2.0",
          "state": {
            "_model_module": "@jupyter-widgets/base",
            "_model_module_version": "1.2.0",
            "_model_name": "LayoutModel",
            "_view_count": null,
            "_view_module": "@jupyter-widgets/base",
            "_view_module_version": "1.2.0",
            "_view_name": "LayoutView",
            "align_content": null,
            "align_items": null,
            "align_self": null,
            "border": null,
            "bottom": null,
            "display": null,
            "flex": null,
            "flex_flow": null,
            "grid_area": null,
            "grid_auto_columns": null,
            "grid_auto_flow": null,
            "grid_auto_rows": null,
            "grid_column": null,
            "grid_gap": null,
            "grid_row": null,
            "grid_template_areas": null,
            "grid_template_columns": null,
            "grid_template_rows": null,
            "height": null,
            "justify_content": null,
            "justify_items": null,
            "left": null,
            "margin": null,
            "max_height": null,
            "max_width": null,
            "min_height": null,
            "min_width": null,
            "object_fit": null,
            "object_position": null,
            "order": null,
            "overflow": null,
            "overflow_x": null,
            "overflow_y": null,
            "padding": null,
            "right": null,
            "top": null,
            "visibility": null,
            "width": null
          }
        },
        "fd66d69d47d74248b68ca7a31ad5ef35": {
          "model_module": "@jupyter-widgets/controls",
          "model_name": "DescriptionStyleModel",
          "model_module_version": "1.5.0",
          "state": {
            "_model_module": "@jupyter-widgets/controls",
            "_model_module_version": "1.5.0",
            "_model_name": "DescriptionStyleModel",
            "_view_count": null,
            "_view_module": "@jupyter-widgets/base",
            "_view_module_version": "1.2.0",
            "_view_name": "StyleView",
            "description_width": ""
          }
        },
        "adafbb1584494e59829dbef2fa27488e": {
          "model_module": "@jupyter-widgets/controls",
          "model_name": "HBoxModel",
          "model_module_version": "1.5.0",
          "state": {
            "_dom_classes": [],
            "_model_module": "@jupyter-widgets/controls",
            "_model_module_version": "1.5.0",
            "_model_name": "HBoxModel",
            "_view_count": null,
            "_view_module": "@jupyter-widgets/controls",
            "_view_module_version": "1.5.0",
            "_view_name": "HBoxView",
            "box_style": "",
            "children": [
              "IPY_MODEL_f806e020d10e4fb1b116c614fff65b61",
              "IPY_MODEL_fb2b62f847d54854883db6f92483c62f",
              "IPY_MODEL_52c80e7bfa064a31a6b85f3f9fe97f12"
            ],
            "layout": "IPY_MODEL_b782244873bf4f2c9d10c109c0163b35"
          }
        },
        "f806e020d10e4fb1b116c614fff65b61": {
          "model_module": "@jupyter-widgets/controls",
          "model_name": "HTMLModel",
          "model_module_version": "1.5.0",
          "state": {
            "_dom_classes": [],
            "_model_module": "@jupyter-widgets/controls",
            "_model_module_version": "1.5.0",
            "_model_name": "HTMLModel",
            "_view_count": null,
            "_view_module": "@jupyter-widgets/controls",
            "_view_module_version": "1.5.0",
            "_view_name": "HTMLView",
            "description": "",
            "description_tooltip": null,
            "layout": "IPY_MODEL_87ba8b0ae16e45e7ad5c5c8a653c15dc",
            "placeholder": "​",
            "style": "IPY_MODEL_71232624038942938775a193c8238482",
            "value": "Downloading model.safetensors: 100%"
          }
        },
        "fb2b62f847d54854883db6f92483c62f": {
          "model_module": "@jupyter-widgets/controls",
          "model_name": "FloatProgressModel",
          "model_module_version": "1.5.0",
          "state": {
            "_dom_classes": [],
            "_model_module": "@jupyter-widgets/controls",
            "_model_module_version": "1.5.0",
            "_model_name": "FloatProgressModel",
            "_view_count": null,
            "_view_module": "@jupyter-widgets/controls",
            "_view_module_version": "1.5.0",
            "_view_name": "ProgressView",
            "bar_style": "success",
            "description": "",
            "description_tooltip": null,
            "layout": "IPY_MODEL_ae18b98cc397421c8c1c02ab6f34cf91",
            "max": 1340622760,
            "min": 0,
            "orientation": "horizontal",
            "style": "IPY_MODEL_dcde3a711e5e4e3db07c2d2c926039a9",
            "value": 1340622760
          }
        },
        "52c80e7bfa064a31a6b85f3f9fe97f12": {
          "model_module": "@jupyter-widgets/controls",
          "model_name": "HTMLModel",
          "model_module_version": "1.5.0",
          "state": {
            "_dom_classes": [],
            "_model_module": "@jupyter-widgets/controls",
            "_model_module_version": "1.5.0",
            "_model_name": "HTMLModel",
            "_view_count": null,
            "_view_module": "@jupyter-widgets/controls",
            "_view_module_version": "1.5.0",
            "_view_name": "HTMLView",
            "description": "",
            "description_tooltip": null,
            "layout": "IPY_MODEL_9bac462e3a3e4750a9e06ff752fb6a61",
            "placeholder": "​",
            "style": "IPY_MODEL_c864f1450c30422388dc7b6cc1b8990d",
            "value": " 1.34G/1.34G [00:09&lt;00:00, 113MB/s]"
          }
        },
        "b782244873bf4f2c9d10c109c0163b35": {
          "model_module": "@jupyter-widgets/base",
          "model_name": "LayoutModel",
          "model_module_version": "1.2.0",
          "state": {
            "_model_module": "@jupyter-widgets/base",
            "_model_module_version": "1.2.0",
            "_model_name": "LayoutModel",
            "_view_count": null,
            "_view_module": "@jupyter-widgets/base",
            "_view_module_version": "1.2.0",
            "_view_name": "LayoutView",
            "align_content": null,
            "align_items": null,
            "align_self": null,
            "border": null,
            "bottom": null,
            "display": null,
            "flex": null,
            "flex_flow": null,
            "grid_area": null,
            "grid_auto_columns": null,
            "grid_auto_flow": null,
            "grid_auto_rows": null,
            "grid_column": null,
            "grid_gap": null,
            "grid_row": null,
            "grid_template_areas": null,
            "grid_template_columns": null,
            "grid_template_rows": null,
            "height": null,
            "justify_content": null,
            "justify_items": null,
            "left": null,
            "margin": null,
            "max_height": null,
            "max_width": null,
            "min_height": null,
            "min_width": null,
            "object_fit": null,
            "object_position": null,
            "order": null,
            "overflow": null,
            "overflow_x": null,
            "overflow_y": null,
            "padding": null,
            "right": null,
            "top": null,
            "visibility": null,
            "width": null
          }
        },
        "87ba8b0ae16e45e7ad5c5c8a653c15dc": {
          "model_module": "@jupyter-widgets/base",
          "model_name": "LayoutModel",
          "model_module_version": "1.2.0",
          "state": {
            "_model_module": "@jupyter-widgets/base",
            "_model_module_version": "1.2.0",
            "_model_name": "LayoutModel",
            "_view_count": null,
            "_view_module": "@jupyter-widgets/base",
            "_view_module_version": "1.2.0",
            "_view_name": "LayoutView",
            "align_content": null,
            "align_items": null,
            "align_self": null,
            "border": null,
            "bottom": null,
            "display": null,
            "flex": null,
            "flex_flow": null,
            "grid_area": null,
            "grid_auto_columns": null,
            "grid_auto_flow": null,
            "grid_auto_rows": null,
            "grid_column": null,
            "grid_gap": null,
            "grid_row": null,
            "grid_template_areas": null,
            "grid_template_columns": null,
            "grid_template_rows": null,
            "height": null,
            "justify_content": null,
            "justify_items": null,
            "left": null,
            "margin": null,
            "max_height": null,
            "max_width": null,
            "min_height": null,
            "min_width": null,
            "object_fit": null,
            "object_position": null,
            "order": null,
            "overflow": null,
            "overflow_x": null,
            "overflow_y": null,
            "padding": null,
            "right": null,
            "top": null,
            "visibility": null,
            "width": null
          }
        },
        "71232624038942938775a193c8238482": {
          "model_module": "@jupyter-widgets/controls",
          "model_name": "DescriptionStyleModel",
          "model_module_version": "1.5.0",
          "state": {
            "_model_module": "@jupyter-widgets/controls",
            "_model_module_version": "1.5.0",
            "_model_name": "DescriptionStyleModel",
            "_view_count": null,
            "_view_module": "@jupyter-widgets/base",
            "_view_module_version": "1.2.0",
            "_view_name": "StyleView",
            "description_width": ""
          }
        },
        "ae18b98cc397421c8c1c02ab6f34cf91": {
          "model_module": "@jupyter-widgets/base",
          "model_name": "LayoutModel",
          "model_module_version": "1.2.0",
          "state": {
            "_model_module": "@jupyter-widgets/base",
            "_model_module_version": "1.2.0",
            "_model_name": "LayoutModel",
            "_view_count": null,
            "_view_module": "@jupyter-widgets/base",
            "_view_module_version": "1.2.0",
            "_view_name": "LayoutView",
            "align_content": null,
            "align_items": null,
            "align_self": null,
            "border": null,
            "bottom": null,
            "display": null,
            "flex": null,
            "flex_flow": null,
            "grid_area": null,
            "grid_auto_columns": null,
            "grid_auto_flow": null,
            "grid_auto_rows": null,
            "grid_column": null,
            "grid_gap": null,
            "grid_row": null,
            "grid_template_areas": null,
            "grid_template_columns": null,
            "grid_template_rows": null,
            "height": null,
            "justify_content": null,
            "justify_items": null,
            "left": null,
            "margin": null,
            "max_height": null,
            "max_width": null,
            "min_height": null,
            "min_width": null,
            "object_fit": null,
            "object_position": null,
            "order": null,
            "overflow": null,
            "overflow_x": null,
            "overflow_y": null,
            "padding": null,
            "right": null,
            "top": null,
            "visibility": null,
            "width": null
          }
        },
        "dcde3a711e5e4e3db07c2d2c926039a9": {
          "model_module": "@jupyter-widgets/controls",
          "model_name": "ProgressStyleModel",
          "model_module_version": "1.5.0",
          "state": {
            "_model_module": "@jupyter-widgets/controls",
            "_model_module_version": "1.5.0",
            "_model_name": "ProgressStyleModel",
            "_view_count": null,
            "_view_module": "@jupyter-widgets/base",
            "_view_module_version": "1.2.0",
            "_view_name": "StyleView",
            "bar_color": null,
            "description_width": ""
          }
        },
        "9bac462e3a3e4750a9e06ff752fb6a61": {
          "model_module": "@jupyter-widgets/base",
          "model_name": "LayoutModel",
          "model_module_version": "1.2.0",
          "state": {
            "_model_module": "@jupyter-widgets/base",
            "_model_module_version": "1.2.0",
            "_model_name": "LayoutModel",
            "_view_count": null,
            "_view_module": "@jupyter-widgets/base",
            "_view_module_version": "1.2.0",
            "_view_name": "LayoutView",
            "align_content": null,
            "align_items": null,
            "align_self": null,
            "border": null,
            "bottom": null,
            "display": null,
            "flex": null,
            "flex_flow": null,
            "grid_area": null,
            "grid_auto_columns": null,
            "grid_auto_flow": null,
            "grid_auto_rows": null,
            "grid_column": null,
            "grid_gap": null,
            "grid_row": null,
            "grid_template_areas": null,
            "grid_template_columns": null,
            "grid_template_rows": null,
            "height": null,
            "justify_content": null,
            "justify_items": null,
            "left": null,
            "margin": null,
            "max_height": null,
            "max_width": null,
            "min_height": null,
            "min_width": null,
            "object_fit": null,
            "object_position": null,
            "order": null,
            "overflow": null,
            "overflow_x": null,
            "overflow_y": null,
            "padding": null,
            "right": null,
            "top": null,
            "visibility": null,
            "width": null
          }
        },
        "c864f1450c30422388dc7b6cc1b8990d": {
          "model_module": "@jupyter-widgets/controls",
          "model_name": "DescriptionStyleModel",
          "model_module_version": "1.5.0",
          "state": {
            "_model_module": "@jupyter-widgets/controls",
            "_model_module_version": "1.5.0",
            "_model_name": "DescriptionStyleModel",
            "_view_count": null,
            "_view_module": "@jupyter-widgets/base",
            "_view_module_version": "1.2.0",
            "_view_name": "StyleView",
            "description_width": ""
          }
        },
        "02ed0c30f7ae46baa8793ce83fd266f8": {
          "model_module": "@jupyter-widgets/controls",
          "model_name": "HBoxModel",
          "model_module_version": "1.5.0",
          "state": {
            "_dom_classes": [],
            "_model_module": "@jupyter-widgets/controls",
            "_model_module_version": "1.5.0",
            "_model_name": "HBoxModel",
            "_view_count": null,
            "_view_module": "@jupyter-widgets/controls",
            "_view_module_version": "1.5.0",
            "_view_name": "HBoxView",
            "box_style": "",
            "children": [
              "IPY_MODEL_7045e124386649c08b4e47f5c5025d5c",
              "IPY_MODEL_7450d0c2817a40ee94452b0afdfc5510",
              "IPY_MODEL_4ffc40e062b84163ac4f9a9ce5a32225"
            ],
            "layout": "IPY_MODEL_b1e5df8bd9eb4e0698dcb8ae2c8fee24"
          }
        },
        "7045e124386649c08b4e47f5c5025d5c": {
          "model_module": "@jupyter-widgets/controls",
          "model_name": "HTMLModel",
          "model_module_version": "1.5.0",
          "state": {
            "_dom_classes": [],
            "_model_module": "@jupyter-widgets/controls",
            "_model_module_version": "1.5.0",
            "_model_name": "HTMLModel",
            "_view_count": null,
            "_view_module": "@jupyter-widgets/controls",
            "_view_module_version": "1.5.0",
            "_view_name": "HTMLView",
            "description": "",
            "description_tooltip": null,
            "layout": "IPY_MODEL_cacd17f0ae2949e0a2de60120dcf6c2b",
            "placeholder": "​",
            "style": "IPY_MODEL_4f5412a5fb9a46acbd76fc003f60ea5a",
            "value": "Downloading (…)solve/main/vocab.txt: 100%"
          }
        },
        "7450d0c2817a40ee94452b0afdfc5510": {
          "model_module": "@jupyter-widgets/controls",
          "model_name": "FloatProgressModel",
          "model_module_version": "1.5.0",
          "state": {
            "_dom_classes": [],
            "_model_module": "@jupyter-widgets/controls",
            "_model_module_version": "1.5.0",
            "_model_name": "FloatProgressModel",
            "_view_count": null,
            "_view_module": "@jupyter-widgets/controls",
            "_view_module_version": "1.5.0",
            "_view_name": "ProgressView",
            "bar_style": "success",
            "description": "",
            "description_tooltip": null,
            "layout": "IPY_MODEL_5a2055a64f024fe3905f6f05a992d966",
            "max": 231508,
            "min": 0,
            "orientation": "horizontal",
            "style": "IPY_MODEL_c7ac5e408896474986f9aa59a1ad8987",
            "value": 231508
          }
        },
        "4ffc40e062b84163ac4f9a9ce5a32225": {
          "model_module": "@jupyter-widgets/controls",
          "model_name": "HTMLModel",
          "model_module_version": "1.5.0",
          "state": {
            "_dom_classes": [],
            "_model_module": "@jupyter-widgets/controls",
            "_model_module_version": "1.5.0",
            "_model_name": "HTMLModel",
            "_view_count": null,
            "_view_module": "@jupyter-widgets/controls",
            "_view_module_version": "1.5.0",
            "_view_name": "HTMLView",
            "description": "",
            "description_tooltip": null,
            "layout": "IPY_MODEL_aac4489d06b14d4c8873073ca6157633",
            "placeholder": "​",
            "style": "IPY_MODEL_0533ab7299a042b692415eab87d3855c",
            "value": " 232k/232k [00:00&lt;00:00, 3.44MB/s]"
          }
        },
        "b1e5df8bd9eb4e0698dcb8ae2c8fee24": {
          "model_module": "@jupyter-widgets/base",
          "model_name": "LayoutModel",
          "model_module_version": "1.2.0",
          "state": {
            "_model_module": "@jupyter-widgets/base",
            "_model_module_version": "1.2.0",
            "_model_name": "LayoutModel",
            "_view_count": null,
            "_view_module": "@jupyter-widgets/base",
            "_view_module_version": "1.2.0",
            "_view_name": "LayoutView",
            "align_content": null,
            "align_items": null,
            "align_self": null,
            "border": null,
            "bottom": null,
            "display": null,
            "flex": null,
            "flex_flow": null,
            "grid_area": null,
            "grid_auto_columns": null,
            "grid_auto_flow": null,
            "grid_auto_rows": null,
            "grid_column": null,
            "grid_gap": null,
            "grid_row": null,
            "grid_template_areas": null,
            "grid_template_columns": null,
            "grid_template_rows": null,
            "height": null,
            "justify_content": null,
            "justify_items": null,
            "left": null,
            "margin": null,
            "max_height": null,
            "max_width": null,
            "min_height": null,
            "min_width": null,
            "object_fit": null,
            "object_position": null,
            "order": null,
            "overflow": null,
            "overflow_x": null,
            "overflow_y": null,
            "padding": null,
            "right": null,
            "top": null,
            "visibility": null,
            "width": null
          }
        },
        "cacd17f0ae2949e0a2de60120dcf6c2b": {
          "model_module": "@jupyter-widgets/base",
          "model_name": "LayoutModel",
          "model_module_version": "1.2.0",
          "state": {
            "_model_module": "@jupyter-widgets/base",
            "_model_module_version": "1.2.0",
            "_model_name": "LayoutModel",
            "_view_count": null,
            "_view_module": "@jupyter-widgets/base",
            "_view_module_version": "1.2.0",
            "_view_name": "LayoutView",
            "align_content": null,
            "align_items": null,
            "align_self": null,
            "border": null,
            "bottom": null,
            "display": null,
            "flex": null,
            "flex_flow": null,
            "grid_area": null,
            "grid_auto_columns": null,
            "grid_auto_flow": null,
            "grid_auto_rows": null,
            "grid_column": null,
            "grid_gap": null,
            "grid_row": null,
            "grid_template_areas": null,
            "grid_template_columns": null,
            "grid_template_rows": null,
            "height": null,
            "justify_content": null,
            "justify_items": null,
            "left": null,
            "margin": null,
            "max_height": null,
            "max_width": null,
            "min_height": null,
            "min_width": null,
            "object_fit": null,
            "object_position": null,
            "order": null,
            "overflow": null,
            "overflow_x": null,
            "overflow_y": null,
            "padding": null,
            "right": null,
            "top": null,
            "visibility": null,
            "width": null
          }
        },
        "4f5412a5fb9a46acbd76fc003f60ea5a": {
          "model_module": "@jupyter-widgets/controls",
          "model_name": "DescriptionStyleModel",
          "model_module_version": "1.5.0",
          "state": {
            "_model_module": "@jupyter-widgets/controls",
            "_model_module_version": "1.5.0",
            "_model_name": "DescriptionStyleModel",
            "_view_count": null,
            "_view_module": "@jupyter-widgets/base",
            "_view_module_version": "1.2.0",
            "_view_name": "StyleView",
            "description_width": ""
          }
        },
        "5a2055a64f024fe3905f6f05a992d966": {
          "model_module": "@jupyter-widgets/base",
          "model_name": "LayoutModel",
          "model_module_version": "1.2.0",
          "state": {
            "_model_module": "@jupyter-widgets/base",
            "_model_module_version": "1.2.0",
            "_model_name": "LayoutModel",
            "_view_count": null,
            "_view_module": "@jupyter-widgets/base",
            "_view_module_version": "1.2.0",
            "_view_name": "LayoutView",
            "align_content": null,
            "align_items": null,
            "align_self": null,
            "border": null,
            "bottom": null,
            "display": null,
            "flex": null,
            "flex_flow": null,
            "grid_area": null,
            "grid_auto_columns": null,
            "grid_auto_flow": null,
            "grid_auto_rows": null,
            "grid_column": null,
            "grid_gap": null,
            "grid_row": null,
            "grid_template_areas": null,
            "grid_template_columns": null,
            "grid_template_rows": null,
            "height": null,
            "justify_content": null,
            "justify_items": null,
            "left": null,
            "margin": null,
            "max_height": null,
            "max_width": null,
            "min_height": null,
            "min_width": null,
            "object_fit": null,
            "object_position": null,
            "order": null,
            "overflow": null,
            "overflow_x": null,
            "overflow_y": null,
            "padding": null,
            "right": null,
            "top": null,
            "visibility": null,
            "width": null
          }
        },
        "c7ac5e408896474986f9aa59a1ad8987": {
          "model_module": "@jupyter-widgets/controls",
          "model_name": "ProgressStyleModel",
          "model_module_version": "1.5.0",
          "state": {
            "_model_module": "@jupyter-widgets/controls",
            "_model_module_version": "1.5.0",
            "_model_name": "ProgressStyleModel",
            "_view_count": null,
            "_view_module": "@jupyter-widgets/base",
            "_view_module_version": "1.2.0",
            "_view_name": "StyleView",
            "bar_color": null,
            "description_width": ""
          }
        },
        "aac4489d06b14d4c8873073ca6157633": {
          "model_module": "@jupyter-widgets/base",
          "model_name": "LayoutModel",
          "model_module_version": "1.2.0",
          "state": {
            "_model_module": "@jupyter-widgets/base",
            "_model_module_version": "1.2.0",
            "_model_name": "LayoutModel",
            "_view_count": null,
            "_view_module": "@jupyter-widgets/base",
            "_view_module_version": "1.2.0",
            "_view_name": "LayoutView",
            "align_content": null,
            "align_items": null,
            "align_self": null,
            "border": null,
            "bottom": null,
            "display": null,
            "flex": null,
            "flex_flow": null,
            "grid_area": null,
            "grid_auto_columns": null,
            "grid_auto_flow": null,
            "grid_auto_rows": null,
            "grid_column": null,
            "grid_gap": null,
            "grid_row": null,
            "grid_template_areas": null,
            "grid_template_columns": null,
            "grid_template_rows": null,
            "height": null,
            "justify_content": null,
            "justify_items": null,
            "left": null,
            "margin": null,
            "max_height": null,
            "max_width": null,
            "min_height": null,
            "min_width": null,
            "object_fit": null,
            "object_position": null,
            "order": null,
            "overflow": null,
            "overflow_x": null,
            "overflow_y": null,
            "padding": null,
            "right": null,
            "top": null,
            "visibility": null,
            "width": null
          }
        },
        "0533ab7299a042b692415eab87d3855c": {
          "model_module": "@jupyter-widgets/controls",
          "model_name": "DescriptionStyleModel",
          "model_module_version": "1.5.0",
          "state": {
            "_model_module": "@jupyter-widgets/controls",
            "_model_module_version": "1.5.0",
            "_model_name": "DescriptionStyleModel",
            "_view_count": null,
            "_view_module": "@jupyter-widgets/base",
            "_view_module_version": "1.2.0",
            "_view_name": "StyleView",
            "description_width": ""
          }
        },
        "ef58c5076a7b4293bc852bd542bb92ef": {
          "model_module": "@jupyter-widgets/controls",
          "model_name": "HBoxModel",
          "model_module_version": "1.5.0",
          "state": {
            "_dom_classes": [],
            "_model_module": "@jupyter-widgets/controls",
            "_model_module_version": "1.5.0",
            "_model_name": "HBoxModel",
            "_view_count": null,
            "_view_module": "@jupyter-widgets/controls",
            "_view_module_version": "1.5.0",
            "_view_name": "HBoxView",
            "box_style": "",
            "children": [
              "IPY_MODEL_6315017e62e84209ab721216d49cd127",
              "IPY_MODEL_2ee8e91d7acf4fd2a1cc38ae81cbc939",
              "IPY_MODEL_e5ac08450aeb42d5b6afba49d528e068"
            ],
            "layout": "IPY_MODEL_a168e21533094a9c8b3621e94c522282"
          }
        },
        "6315017e62e84209ab721216d49cd127": {
          "model_module": "@jupyter-widgets/controls",
          "model_name": "HTMLModel",
          "model_module_version": "1.5.0",
          "state": {
            "_dom_classes": [],
            "_model_module": "@jupyter-widgets/controls",
            "_model_module_version": "1.5.0",
            "_model_name": "HTMLModel",
            "_view_count": null,
            "_view_module": "@jupyter-widgets/controls",
            "_view_module_version": "1.5.0",
            "_view_name": "HTMLView",
            "description": "",
            "description_tooltip": null,
            "layout": "IPY_MODEL_a02e0061dc974747a0b31fd9804aaebb",
            "placeholder": "​",
            "style": "IPY_MODEL_f832338ccc0c4edfba642161723badb0",
            "value": "Downloading (…)okenizer_config.json: 100%"
          }
        },
        "2ee8e91d7acf4fd2a1cc38ae81cbc939": {
          "model_module": "@jupyter-widgets/controls",
          "model_name": "FloatProgressModel",
          "model_module_version": "1.5.0",
          "state": {
            "_dom_classes": [],
            "_model_module": "@jupyter-widgets/controls",
            "_model_module_version": "1.5.0",
            "_model_name": "FloatProgressModel",
            "_view_count": null,
            "_view_module": "@jupyter-widgets/controls",
            "_view_module_version": "1.5.0",
            "_view_name": "ProgressView",
            "bar_style": "success",
            "description": "",
            "description_tooltip": null,
            "layout": "IPY_MODEL_3c2f5fd6ad414e4f97e8c9b7f0a05036",
            "max": 28,
            "min": 0,
            "orientation": "horizontal",
            "style": "IPY_MODEL_0c0f5a1472764fceabdb9effa36b8918",
            "value": 28
          }
        },
        "e5ac08450aeb42d5b6afba49d528e068": {
          "model_module": "@jupyter-widgets/controls",
          "model_name": "HTMLModel",
          "model_module_version": "1.5.0",
          "state": {
            "_dom_classes": [],
            "_model_module": "@jupyter-widgets/controls",
            "_model_module_version": "1.5.0",
            "_model_name": "HTMLModel",
            "_view_count": null,
            "_view_module": "@jupyter-widgets/controls",
            "_view_module_version": "1.5.0",
            "_view_name": "HTMLView",
            "description": "",
            "description_tooltip": null,
            "layout": "IPY_MODEL_bbd77afe592c428cb3f2ff0c46c1f370",
            "placeholder": "​",
            "style": "IPY_MODEL_917ca82f6eac41018c32686af65d8b66",
            "value": " 28.0/28.0 [00:00&lt;00:00, 2.22kB/s]"
          }
        },
        "a168e21533094a9c8b3621e94c522282": {
          "model_module": "@jupyter-widgets/base",
          "model_name": "LayoutModel",
          "model_module_version": "1.2.0",
          "state": {
            "_model_module": "@jupyter-widgets/base",
            "_model_module_version": "1.2.0",
            "_model_name": "LayoutModel",
            "_view_count": null,
            "_view_module": "@jupyter-widgets/base",
            "_view_module_version": "1.2.0",
            "_view_name": "LayoutView",
            "align_content": null,
            "align_items": null,
            "align_self": null,
            "border": null,
            "bottom": null,
            "display": null,
            "flex": null,
            "flex_flow": null,
            "grid_area": null,
            "grid_auto_columns": null,
            "grid_auto_flow": null,
            "grid_auto_rows": null,
            "grid_column": null,
            "grid_gap": null,
            "grid_row": null,
            "grid_template_areas": null,
            "grid_template_columns": null,
            "grid_template_rows": null,
            "height": null,
            "justify_content": null,
            "justify_items": null,
            "left": null,
            "margin": null,
            "max_height": null,
            "max_width": null,
            "min_height": null,
            "min_width": null,
            "object_fit": null,
            "object_position": null,
            "order": null,
            "overflow": null,
            "overflow_x": null,
            "overflow_y": null,
            "padding": null,
            "right": null,
            "top": null,
            "visibility": null,
            "width": null
          }
        },
        "a02e0061dc974747a0b31fd9804aaebb": {
          "model_module": "@jupyter-widgets/base",
          "model_name": "LayoutModel",
          "model_module_version": "1.2.0",
          "state": {
            "_model_module": "@jupyter-widgets/base",
            "_model_module_version": "1.2.0",
            "_model_name": "LayoutModel",
            "_view_count": null,
            "_view_module": "@jupyter-widgets/base",
            "_view_module_version": "1.2.0",
            "_view_name": "LayoutView",
            "align_content": null,
            "align_items": null,
            "align_self": null,
            "border": null,
            "bottom": null,
            "display": null,
            "flex": null,
            "flex_flow": null,
            "grid_area": null,
            "grid_auto_columns": null,
            "grid_auto_flow": null,
            "grid_auto_rows": null,
            "grid_column": null,
            "grid_gap": null,
            "grid_row": null,
            "grid_template_areas": null,
            "grid_template_columns": null,
            "grid_template_rows": null,
            "height": null,
            "justify_content": null,
            "justify_items": null,
            "left": null,
            "margin": null,
            "max_height": null,
            "max_width": null,
            "min_height": null,
            "min_width": null,
            "object_fit": null,
            "object_position": null,
            "order": null,
            "overflow": null,
            "overflow_x": null,
            "overflow_y": null,
            "padding": null,
            "right": null,
            "top": null,
            "visibility": null,
            "width": null
          }
        },
        "f832338ccc0c4edfba642161723badb0": {
          "model_module": "@jupyter-widgets/controls",
          "model_name": "DescriptionStyleModel",
          "model_module_version": "1.5.0",
          "state": {
            "_model_module": "@jupyter-widgets/controls",
            "_model_module_version": "1.5.0",
            "_model_name": "DescriptionStyleModel",
            "_view_count": null,
            "_view_module": "@jupyter-widgets/base",
            "_view_module_version": "1.2.0",
            "_view_name": "StyleView",
            "description_width": ""
          }
        },
        "3c2f5fd6ad414e4f97e8c9b7f0a05036": {
          "model_module": "@jupyter-widgets/base",
          "model_name": "LayoutModel",
          "model_module_version": "1.2.0",
          "state": {
            "_model_module": "@jupyter-widgets/base",
            "_model_module_version": "1.2.0",
            "_model_name": "LayoutModel",
            "_view_count": null,
            "_view_module": "@jupyter-widgets/base",
            "_view_module_version": "1.2.0",
            "_view_name": "LayoutView",
            "align_content": null,
            "align_items": null,
            "align_self": null,
            "border": null,
            "bottom": null,
            "display": null,
            "flex": null,
            "flex_flow": null,
            "grid_area": null,
            "grid_auto_columns": null,
            "grid_auto_flow": null,
            "grid_auto_rows": null,
            "grid_column": null,
            "grid_gap": null,
            "grid_row": null,
            "grid_template_areas": null,
            "grid_template_columns": null,
            "grid_template_rows": null,
            "height": null,
            "justify_content": null,
            "justify_items": null,
            "left": null,
            "margin": null,
            "max_height": null,
            "max_width": null,
            "min_height": null,
            "min_width": null,
            "object_fit": null,
            "object_position": null,
            "order": null,
            "overflow": null,
            "overflow_x": null,
            "overflow_y": null,
            "padding": null,
            "right": null,
            "top": null,
            "visibility": null,
            "width": null
          }
        },
        "0c0f5a1472764fceabdb9effa36b8918": {
          "model_module": "@jupyter-widgets/controls",
          "model_name": "ProgressStyleModel",
          "model_module_version": "1.5.0",
          "state": {
            "_model_module": "@jupyter-widgets/controls",
            "_model_module_version": "1.5.0",
            "_model_name": "ProgressStyleModel",
            "_view_count": null,
            "_view_module": "@jupyter-widgets/base",
            "_view_module_version": "1.2.0",
            "_view_name": "StyleView",
            "bar_color": null,
            "description_width": ""
          }
        },
        "bbd77afe592c428cb3f2ff0c46c1f370": {
          "model_module": "@jupyter-widgets/base",
          "model_name": "LayoutModel",
          "model_module_version": "1.2.0",
          "state": {
            "_model_module": "@jupyter-widgets/base",
            "_model_module_version": "1.2.0",
            "_model_name": "LayoutModel",
            "_view_count": null,
            "_view_module": "@jupyter-widgets/base",
            "_view_module_version": "1.2.0",
            "_view_name": "LayoutView",
            "align_content": null,
            "align_items": null,
            "align_self": null,
            "border": null,
            "bottom": null,
            "display": null,
            "flex": null,
            "flex_flow": null,
            "grid_area": null,
            "grid_auto_columns": null,
            "grid_auto_flow": null,
            "grid_auto_rows": null,
            "grid_column": null,
            "grid_gap": null,
            "grid_row": null,
            "grid_template_areas": null,
            "grid_template_columns": null,
            "grid_template_rows": null,
            "height": null,
            "justify_content": null,
            "justify_items": null,
            "left": null,
            "margin": null,
            "max_height": null,
            "max_width": null,
            "min_height": null,
            "min_width": null,
            "object_fit": null,
            "object_position": null,
            "order": null,
            "overflow": null,
            "overflow_x": null,
            "overflow_y": null,
            "padding": null,
            "right": null,
            "top": null,
            "visibility": null,
            "width": null
          }
        },
        "917ca82f6eac41018c32686af65d8b66": {
          "model_module": "@jupyter-widgets/controls",
          "model_name": "DescriptionStyleModel",
          "model_module_version": "1.5.0",
          "state": {
            "_model_module": "@jupyter-widgets/controls",
            "_model_module_version": "1.5.0",
            "_model_name": "DescriptionStyleModel",
            "_view_count": null,
            "_view_module": "@jupyter-widgets/base",
            "_view_module_version": "1.2.0",
            "_view_name": "StyleView",
            "description_width": ""
          }
        }
      }
    },
    "accelerator": "GPU"
  },
  "cells": [
    {
      "cell_type": "markdown",
      "metadata": {
        "id": "view-in-github",
        "colab_type": "text"
      },
      "source": [
        "<a href=\"https://colab.research.google.com/github/pelinbalci/LLM_Notebooks/blob/main/Embedding_search_v2.ipynb\" target=\"_parent\"><img src=\"https://colab.research.google.com/assets/colab-badge.svg\" alt=\"Open In Colab\"/></a>"
      ]
    },
    {
      "cell_type": "markdown",
      "source": [
        "# Get Article&Query Embeddings and Search for Similarity"
      ],
      "metadata": {
        "id": "8rFWPzjWYVGc"
      }
    },
    {
      "cell_type": "code",
      "source": [
        "!pip install accelerate"
      ],
      "metadata": {
        "id": "gPHh8_AtC6dH",
        "colab": {
          "base_uri": "https://localhost:8080/"
        },
        "outputId": "45557612-daa3-4574-9a9f-bcae1bccfa68"
      },
      "execution_count": 1,
      "outputs": [
        {
          "output_type": "stream",
          "name": "stdout",
          "text": [
            "Collecting accelerate\n",
            "  Downloading accelerate-0.23.0-py3-none-any.whl (258 kB)\n",
            "\u001b[2K     \u001b[90m━━━━━━━━━━━━━━━━━━━━━━━━━━━━━━━━━━━━━━━\u001b[0m \u001b[32m258.1/258.1 kB\u001b[0m \u001b[31m5.6 MB/s\u001b[0m eta \u001b[36m0:00:00\u001b[0m\n",
            "\u001b[?25hRequirement already satisfied: numpy>=1.17 in /usr/local/lib/python3.10/dist-packages (from accelerate) (1.23.5)\n",
            "Requirement already satisfied: packaging>=20.0 in /usr/local/lib/python3.10/dist-packages (from accelerate) (23.1)\n",
            "Requirement already satisfied: psutil in /usr/local/lib/python3.10/dist-packages (from accelerate) (5.9.5)\n",
            "Requirement already satisfied: pyyaml in /usr/local/lib/python3.10/dist-packages (from accelerate) (6.0.1)\n",
            "Requirement already satisfied: torch>=1.10.0 in /usr/local/lib/python3.10/dist-packages (from accelerate) (2.0.1+cu118)\n",
            "Collecting huggingface-hub (from accelerate)\n",
            "  Downloading huggingface_hub-0.17.3-py3-none-any.whl (295 kB)\n",
            "\u001b[2K     \u001b[90m━━━━━━━━━━━━━━━━━━━━━━━━━━━━━━━━━━━━━━\u001b[0m \u001b[32m295.0/295.0 kB\u001b[0m \u001b[31m10.4 MB/s\u001b[0m eta \u001b[36m0:00:00\u001b[0m\n",
            "\u001b[?25hRequirement already satisfied: filelock in /usr/local/lib/python3.10/dist-packages (from torch>=1.10.0->accelerate) (3.12.2)\n",
            "Requirement already satisfied: typing-extensions in /usr/local/lib/python3.10/dist-packages (from torch>=1.10.0->accelerate) (4.5.0)\n",
            "Requirement already satisfied: sympy in /usr/local/lib/python3.10/dist-packages (from torch>=1.10.0->accelerate) (1.12)\n",
            "Requirement already satisfied: networkx in /usr/local/lib/python3.10/dist-packages (from torch>=1.10.0->accelerate) (3.1)\n",
            "Requirement already satisfied: jinja2 in /usr/local/lib/python3.10/dist-packages (from torch>=1.10.0->accelerate) (3.1.2)\n",
            "Requirement already satisfied: triton==2.0.0 in /usr/local/lib/python3.10/dist-packages (from torch>=1.10.0->accelerate) (2.0.0)\n",
            "Requirement already satisfied: cmake in /usr/local/lib/python3.10/dist-packages (from triton==2.0.0->torch>=1.10.0->accelerate) (3.27.4.1)\n",
            "Requirement already satisfied: lit in /usr/local/lib/python3.10/dist-packages (from triton==2.0.0->torch>=1.10.0->accelerate) (16.0.6)\n",
            "Requirement already satisfied: fsspec in /usr/local/lib/python3.10/dist-packages (from huggingface-hub->accelerate) (2023.6.0)\n",
            "Requirement already satisfied: requests in /usr/local/lib/python3.10/dist-packages (from huggingface-hub->accelerate) (2.31.0)\n",
            "Requirement already satisfied: tqdm>=4.42.1 in /usr/local/lib/python3.10/dist-packages (from huggingface-hub->accelerate) (4.66.1)\n",
            "Requirement already satisfied: MarkupSafe>=2.0 in /usr/local/lib/python3.10/dist-packages (from jinja2->torch>=1.10.0->accelerate) (2.1.3)\n",
            "Requirement already satisfied: charset-normalizer<4,>=2 in /usr/local/lib/python3.10/dist-packages (from requests->huggingface-hub->accelerate) (3.2.0)\n",
            "Requirement already satisfied: idna<4,>=2.5 in /usr/local/lib/python3.10/dist-packages (from requests->huggingface-hub->accelerate) (3.4)\n",
            "Requirement already satisfied: urllib3<3,>=1.21.1 in /usr/local/lib/python3.10/dist-packages (from requests->huggingface-hub->accelerate) (2.0.4)\n",
            "Requirement already satisfied: certifi>=2017.4.17 in /usr/local/lib/python3.10/dist-packages (from requests->huggingface-hub->accelerate) (2023.7.22)\n",
            "Requirement already satisfied: mpmath>=0.19 in /usr/local/lib/python3.10/dist-packages (from sympy->torch>=1.10.0->accelerate) (1.3.0)\n",
            "Installing collected packages: huggingface-hub, accelerate\n",
            "Successfully installed accelerate-0.23.0 huggingface-hub-0.17.3\n"
          ]
        }
      ]
    },
    {
      "cell_type": "code",
      "source": [
        "!pip install sentence_transformers\n",
        "!pip install editdistance"
      ],
      "metadata": {
        "colab": {
          "base_uri": "https://localhost:8080/"
        },
        "id": "cZ7vAL98YzHc",
        "outputId": "9a1d168a-57e7-4b40-d81a-424910322f1c"
      },
      "execution_count": 2,
      "outputs": [
        {
          "output_type": "stream",
          "name": "stdout",
          "text": [
            "Collecting sentence_transformers\n",
            "  Downloading sentence-transformers-2.2.2.tar.gz (85 kB)\n",
            "\u001b[?25l     \u001b[90m━━━━━━━━━━━━━━━━━━━━━━━━━━━━━━━━━━━━━━━━\u001b[0m \u001b[32m0.0/86.0 kB\u001b[0m \u001b[31m?\u001b[0m eta \u001b[36m-:--:--\u001b[0m\r\u001b[2K     \u001b[90m━━━━━━━━━━━━━━━━━━━━━━━━━━━━━━━━━━━━━━━━\u001b[0m \u001b[32m86.0/86.0 kB\u001b[0m \u001b[31m2.7 MB/s\u001b[0m eta \u001b[36m0:00:00\u001b[0m\n",
            "\u001b[?25h  Preparing metadata (setup.py) ... \u001b[?25l\u001b[?25hdone\n",
            "Collecting transformers<5.0.0,>=4.6.0 (from sentence_transformers)\n",
            "  Downloading transformers-4.33.3-py3-none-any.whl (7.6 MB)\n",
            "\u001b[2K     \u001b[90m━━━━━━━━━━━━━━━━━━━━━━━━━━━━━━━━━━━━━━━━\u001b[0m \u001b[32m7.6/7.6 MB\u001b[0m \u001b[31m60.3 MB/s\u001b[0m eta \u001b[36m0:00:00\u001b[0m\n",
            "\u001b[?25hRequirement already satisfied: tqdm in /usr/local/lib/python3.10/dist-packages (from sentence_transformers) (4.66.1)\n",
            "Requirement already satisfied: torch>=1.6.0 in /usr/local/lib/python3.10/dist-packages (from sentence_transformers) (2.0.1+cu118)\n",
            "Requirement already satisfied: torchvision in /usr/local/lib/python3.10/dist-packages (from sentence_transformers) (0.15.2+cu118)\n",
            "Requirement already satisfied: numpy in /usr/local/lib/python3.10/dist-packages (from sentence_transformers) (1.23.5)\n",
            "Requirement already satisfied: scikit-learn in /usr/local/lib/python3.10/dist-packages (from sentence_transformers) (1.2.2)\n",
            "Requirement already satisfied: scipy in /usr/local/lib/python3.10/dist-packages (from sentence_transformers) (1.11.2)\n",
            "Requirement already satisfied: nltk in /usr/local/lib/python3.10/dist-packages (from sentence_transformers) (3.8.1)\n",
            "Collecting sentencepiece (from sentence_transformers)\n",
            "  Downloading sentencepiece-0.1.99-cp310-cp310-manylinux_2_17_x86_64.manylinux2014_x86_64.whl (1.3 MB)\n",
            "\u001b[2K     \u001b[90m━━━━━━━━━━━━━━━━━━━━━━━━━━━━━━━━━━━━━━━━\u001b[0m \u001b[32m1.3/1.3 MB\u001b[0m \u001b[31m48.7 MB/s\u001b[0m eta \u001b[36m0:00:00\u001b[0m\n",
            "\u001b[?25hRequirement already satisfied: huggingface-hub>=0.4.0 in /usr/local/lib/python3.10/dist-packages (from sentence_transformers) (0.17.3)\n",
            "Requirement already satisfied: filelock in /usr/local/lib/python3.10/dist-packages (from huggingface-hub>=0.4.0->sentence_transformers) (3.12.2)\n",
            "Requirement already satisfied: fsspec in /usr/local/lib/python3.10/dist-packages (from huggingface-hub>=0.4.0->sentence_transformers) (2023.6.0)\n",
            "Requirement already satisfied: requests in /usr/local/lib/python3.10/dist-packages (from huggingface-hub>=0.4.0->sentence_transformers) (2.31.0)\n",
            "Requirement already satisfied: pyyaml>=5.1 in /usr/local/lib/python3.10/dist-packages (from huggingface-hub>=0.4.0->sentence_transformers) (6.0.1)\n",
            "Requirement already satisfied: typing-extensions>=3.7.4.3 in /usr/local/lib/python3.10/dist-packages (from huggingface-hub>=0.4.0->sentence_transformers) (4.5.0)\n",
            "Requirement already satisfied: packaging>=20.9 in /usr/local/lib/python3.10/dist-packages (from huggingface-hub>=0.4.0->sentence_transformers) (23.1)\n",
            "Requirement already satisfied: sympy in /usr/local/lib/python3.10/dist-packages (from torch>=1.6.0->sentence_transformers) (1.12)\n",
            "Requirement already satisfied: networkx in /usr/local/lib/python3.10/dist-packages (from torch>=1.6.0->sentence_transformers) (3.1)\n",
            "Requirement already satisfied: jinja2 in /usr/local/lib/python3.10/dist-packages (from torch>=1.6.0->sentence_transformers) (3.1.2)\n",
            "Requirement already satisfied: triton==2.0.0 in /usr/local/lib/python3.10/dist-packages (from torch>=1.6.0->sentence_transformers) (2.0.0)\n",
            "Requirement already satisfied: cmake in /usr/local/lib/python3.10/dist-packages (from triton==2.0.0->torch>=1.6.0->sentence_transformers) (3.27.4.1)\n",
            "Requirement already satisfied: lit in /usr/local/lib/python3.10/dist-packages (from triton==2.0.0->torch>=1.6.0->sentence_transformers) (16.0.6)\n",
            "Requirement already satisfied: regex!=2019.12.17 in /usr/local/lib/python3.10/dist-packages (from transformers<5.0.0,>=4.6.0->sentence_transformers) (2023.6.3)\n",
            "Collecting tokenizers!=0.11.3,<0.14,>=0.11.1 (from transformers<5.0.0,>=4.6.0->sentence_transformers)\n",
            "  Downloading tokenizers-0.13.3-cp310-cp310-manylinux_2_17_x86_64.manylinux2014_x86_64.whl (7.8 MB)\n",
            "\u001b[2K     \u001b[90m━━━━━━━━━━━━━━━━━━━━━━━━━━━━━━━━━━━━━━━━\u001b[0m \u001b[32m7.8/7.8 MB\u001b[0m \u001b[31m56.5 MB/s\u001b[0m eta \u001b[36m0:00:00\u001b[0m\n",
            "\u001b[?25hCollecting safetensors>=0.3.1 (from transformers<5.0.0,>=4.6.0->sentence_transformers)\n",
            "  Downloading safetensors-0.3.3-cp310-cp310-manylinux_2_17_x86_64.manylinux2014_x86_64.whl (1.3 MB)\n",
            "\u001b[2K     \u001b[90m━━━━━━━━━━━━━━━━━━━━━━━━━━━━━━━━━━━━━━━━\u001b[0m \u001b[32m1.3/1.3 MB\u001b[0m \u001b[31m27.9 MB/s\u001b[0m eta \u001b[36m0:00:00\u001b[0m\n",
            "\u001b[?25hRequirement already satisfied: click in /usr/local/lib/python3.10/dist-packages (from nltk->sentence_transformers) (8.1.7)\n",
            "Requirement already satisfied: joblib in /usr/local/lib/python3.10/dist-packages (from nltk->sentence_transformers) (1.3.2)\n",
            "Requirement already satisfied: threadpoolctl>=2.0.0 in /usr/local/lib/python3.10/dist-packages (from scikit-learn->sentence_transformers) (3.2.0)\n",
            "Requirement already satisfied: pillow!=8.3.*,>=5.3.0 in /usr/local/lib/python3.10/dist-packages (from torchvision->sentence_transformers) (9.4.0)\n",
            "Requirement already satisfied: MarkupSafe>=2.0 in /usr/local/lib/python3.10/dist-packages (from jinja2->torch>=1.6.0->sentence_transformers) (2.1.3)\n",
            "Requirement already satisfied: charset-normalizer<4,>=2 in /usr/local/lib/python3.10/dist-packages (from requests->huggingface-hub>=0.4.0->sentence_transformers) (3.2.0)\n",
            "Requirement already satisfied: idna<4,>=2.5 in /usr/local/lib/python3.10/dist-packages (from requests->huggingface-hub>=0.4.0->sentence_transformers) (3.4)\n",
            "Requirement already satisfied: urllib3<3,>=1.21.1 in /usr/local/lib/python3.10/dist-packages (from requests->huggingface-hub>=0.4.0->sentence_transformers) (2.0.4)\n",
            "Requirement already satisfied: certifi>=2017.4.17 in /usr/local/lib/python3.10/dist-packages (from requests->huggingface-hub>=0.4.0->sentence_transformers) (2023.7.22)\n",
            "Requirement already satisfied: mpmath>=0.19 in /usr/local/lib/python3.10/dist-packages (from sympy->torch>=1.6.0->sentence_transformers) (1.3.0)\n",
            "Building wheels for collected packages: sentence_transformers\n",
            "  Building wheel for sentence_transformers (setup.py) ... \u001b[?25l\u001b[?25hdone\n",
            "  Created wheel for sentence_transformers: filename=sentence_transformers-2.2.2-py3-none-any.whl size=125923 sha256=380ceb3e630b48d8d89fb2835094b77ea846221501535f1e8c906779307eec73\n",
            "  Stored in directory: /root/.cache/pip/wheels/62/f2/10/1e606fd5f02395388f74e7462910fe851042f97238cbbd902f\n",
            "Successfully built sentence_transformers\n",
            "Installing collected packages: tokenizers, sentencepiece, safetensors, transformers, sentence_transformers\n",
            "Successfully installed safetensors-0.3.3 sentence_transformers-2.2.2 sentencepiece-0.1.99 tokenizers-0.13.3 transformers-4.33.3\n",
            "Requirement already satisfied: editdistance in /usr/local/lib/python3.10/dist-packages (0.6.2)\n"
          ]
        }
      ]
    },
    {
      "cell_type": "code",
      "source": [
        "import re\n",
        "import numpy as np\n",
        "import pandas as pd\n",
        "import editdistance\n",
        "from sentence_transformers import SentenceTransformer\n",
        "import torch"
      ],
      "metadata": {
        "id": "mtFqSh2aRQ0Z"
      },
      "execution_count": 3,
      "outputs": []
    },
    {
      "cell_type": "code",
      "source": [
        "device_count = torch.cuda.device_count()\n",
        "if device_count > 0:\n",
        "    device = torch.device(\"cuda\")\n",
        "else:\n",
        "    device = torch.device(\"cpu\")\n",
        "print(device)"
      ],
      "metadata": {
        "colab": {
          "base_uri": "https://localhost:8080/"
        },
        "id": "ytntMj3wM7He",
        "outputId": "7cd38cf9-d6da-480a-810f-ca375ffea84a"
      },
      "execution_count": 4,
      "outputs": [
        {
          "output_type": "stream",
          "name": "stdout",
          "text": [
            "cuda\n"
          ]
        }
      ]
    },
    {
      "cell_type": "code",
      "execution_count": 32,
      "metadata": {
        "id": "j2w2oce_PEst"
      },
      "outputs": [],
      "source": [
        "# Calculate the cosine similarity for two vectors\n",
        "def find_cosine_similarity(u, v):\n",
        "    \"\"\"\n",
        "    Cosine similarity reflects the degree of similarity between u and v\n",
        "    Arguments:\n",
        "        u -- a word vector of shape (n,)\n",
        "        v -- a word vector of shape (n,)\n",
        "    Returns:\n",
        "        cosine_similarity -- the cosine similarity between u and v defined by the formula above.\n",
        "    \"\"\"\n",
        "    dot = np.dot(u, v)\n",
        "    norm_u = np.linalg.norm(u)\n",
        "    norm_v = np.linalg.norm(v)\n",
        "    # Avoid division by zero error\n",
        "    if np.isclose(norm_u * norm_v, 0, atol=1e-32):\n",
        "        return 0\n",
        "    # Compute the cosine similarity\n",
        "    cosine_similarity = dot / (norm_u * norm_v)\n",
        "\n",
        "    return cosine_similarity\n",
        "\n",
        "\n",
        "# Calculate the lexical similarity of the given two texts/sentences\n",
        "def find_lexical_similarity(text1, text2):\n",
        "    \"\"\"editdistance:  the minimum number of operations required to transfer one text into the other\"\"\"\n",
        "    lexical_sim = 1 - (editdistance.eval(text1, text2) / max(len(text1), len(text2)))\n",
        "    return lexical_sim\n",
        "\n",
        "\n",
        "def prepare_text(text):\n",
        "    # lower\n",
        "    text = text.lower()\n",
        "    # remove punctuation\n",
        "    text = re.sub(r'[^\\w\\s]', '', text)\n",
        "    return text\n",
        "\n",
        "\n",
        "def chunk_article(article):\n",
        "  sentences = [\"Gender equality is the goal, while gender neutrality and gender equity are practices and ways of thinking that help in achieving the goal.\",\n",
        "               \"In 1994, the twenty-year Cairo Programme of Action was adopted at the International Conference on Population and Development (ICPD) in Cairo.\",\n",
        "               \"The United Nations Security Council Resolution 1325 (UNSRC 1325), which was adopted on 31 October 2000, deals with the rights and protection of women and girls during and after armed conflicts.\",\n",
        "               \"The Council of Europe's Convention on preventing and combating violence against women and domestic violence, the first legally binding instrument in Europe in the field of violence against women,[14] came into force in 2014.\",\n",
        "               \"Gender equality is a fundamental human right.\",\n",
        "               \"The United Nations has been actively promoting gender equality and women's empowerment.\",\n",
        "               \"Numerous studies conducted by the United Nations have highlighted the persistent challenges of gender discrimination worldwide.\",\n",
        "               \"One of the key areas of concern is the gender gap in access to education.\",\n",
        "               \"Efforts are being made to bridge this gap and ensure equal educational opportunities for all genders.\",\n",
        "               \"In the field of technology, there has been a recognized gender disparity with fewer women pursuing careers in tech-related jobs.\",\n",
        "               \"Studies have investigated the reasons behind this gender gap, including societal stereotypes, lack of female role models, and biases in recruitment processes.\",\n",
        "               \"Gender equality is closely tied to the United Nations Sustainable Development Goals (SDGs), particularly Goal 5.\",\n",
        "               \"The United Nations has set specific targets and indicators to track progress toward gender equality.\",\n",
        "               \"Studies have shown that gender discrimination exists in various forms.\",\n",
        "               \"Efforts to promote gender equality also extend to the workplace.\",\n",
        "               \"Education plays a vital role in empowering women and girls.\",\n",
        "               \"Studies have demonstrated that when girls have access to quality education, they are more likely to lead healthier lives, make informed choices, and participate actively in their communities.\",\n",
        "               \"The United Nations has emphasized the importance of gender-responsive education systems.\",\n",
        "               \"Gender equality is not only about addressing disparities faced by women and girls but also about dismantling harmful norms and attitudes that perpetuate discrimination.\",\n",
        "               \"Achieving gender equality also requires addressing the intersectionality of discrimination.\",\n",
        "               \"Studies have highlighted the need for targeted policies and programs to support marginalized groups.\",\n",
        "               \"The United Nations Women's Empowerment Principles (WEPs) provide a framework for businesses to promote gender equality in the workplace, marketplace, and community.\",\n",
        "               \"In recent years, there has been increased attention to the role of women in peace and security efforts.\",\n",
        "               \"Efforts to achieve gender equality require a multi-pronged approach.\",\n",
        "               \"One of the key challenges in achieving gender equality is combating violence against women.\",\n",
        "               \"The United Nations has called for the elimination of all forms of violence against women and girls.\",\n",
        "               \"Gender-responsive budgeting is an important tool in advancing gender equality.\",\n",
        "               \"Studies have shown that investing in gender equality has a positive impact on economic growth and development.\",\n",
        "               \"The United Nations has set ambitious targets for achieving gender equality by 2030.\",\n",
        "               \"Gender equality is not just a women's issue; it is a human rights issue that benefits society as a whole.\",\n",
        "               \"Promoting gender equality requires changing cultural norms and stereotypes.\",\n",
        "               \"Studies have shown that when women are economically empowered, they invest more in their families' health, education, and well-being.\",\n",
        "               \"Efforts to achieve gender equality must also address the digital gender divide.\",\n",
        "               \"Women in leadership roles are essential for promoting gender equality.\",\n",
        "               \"Gender equality is closely linked to environmental sustainability.\",\n",
        "               \"Studies have shown that when women are involved in natural resource management and environmental decision-making, conservation efforts tend to be more successful.\",\n",
        "               \"Addressing gender-based discrimination in healthcare is crucial for achieving gender equality.\",\n",
        "               \"Efforts to promote gender equality must also consider the unique challenges faced by LGBTQ+ individuals.\",\n",
        "               \"Gender-sensitive reporting and data collection are essential for tracking progress toward gender equality.\",\n",
        "               \"The United Nations has established mechanisms for monitoring and reporting on progress toward gender equality.\",\n",
        "               \"Gender equality is not just a goal in itself but a means to achieve a more just and equitable world.\",\n",
        "               \"Promoting gender equality requires engaging men and boys as allies in the fight against gender discrimination.\",\n",
        "               \"Intersectional feminism acknowledges that women's experiences of discrimination vary based on their intersecting identities.\",\n",
        "               \"In many parts of the world, child marriage remains a significant barrier to gender equality.\",\n",
        "               \"Efforts to promote gender equality must also consider the needs of women with disabilities.\",\n",
        "               \"Gender stereotypes in the media play a role in perpetuating gender discrimination.\",\n",
        "               \"The United Nations promotes gender mainstreaming, which involves integrating a gender perspective into all policies, programs, and activities.\"]\n",
        "  return sentences\n",
        "\n",
        "\n",
        "def get_embeddings(sentences):\n",
        "  model = SentenceTransformer(embedding_model_name)\n",
        "  list_sentence_embeddings =[]\n",
        "  for sen in sentences:\n",
        "    sem = (prepare_text(sen))\n",
        "    sentence_embeddings = model.encode(sen)\n",
        "    list_sentence_embeddings.append(sentence_embeddings)\n",
        "  df = pd.DataFrame({\"sentences\": sentences, \"embedding\": list_sentence_embeddings})\n",
        "  return df\n",
        "\n",
        "\n",
        "def similarity(query:str, df:pd.DataFrame, top_n: int=2) -> tuple[list[str], list[float]]:\n",
        "    # prepare query embeddings\n",
        "    model = SentenceTransformer(embedding_model_name)\n",
        "    query = (prepare_text(query))\n",
        "    query_embeddings = model.encode(query)\n",
        "\n",
        "    # apply cosine similarity to two vectors\n",
        "    strings_and_relatednesses = [(row[\"sentences\"], find_cosine_similarity(query_embeddings, row[\"embedding\"])) for i, row in df.iterrows()]\n",
        "    strings_and_relatednesses.sort(key=lambda x: x[1], reverse=True)\n",
        "    strings, relatednesses = zip(*strings_and_relatednesses)\n",
        "\n",
        "    # transformers_similarity_score = find_cosine_similarity(sentence_embeddings[0], sentence_embeddings[1])\n",
        "\n",
        "    # # find lexical similarity with edit distance\n",
        "    # lexical_similarity = find_lexical_similarity(text1, text2)\n",
        "\n",
        "    # # weighted average\n",
        "    # similarity_score = transformers_similarity_score * 0.6 + lexical_similarity * 0.4\n",
        "    return strings[:top_n], relatednesses[:top_n]\n"
      ]
    },
    {
      "cell_type": "code",
      "source": [
        "# find sentence embeddings\n",
        "embedding_model_name = \"bert-base-uncased\"\n",
        "article = \"XX\"\n",
        "sentences = chunk_article(article)\n",
        "df = get_embeddings(sentences)"
      ],
      "metadata": {
        "id": "HvWsS3cmUTa1",
        "colab": {
          "base_uri": "https://localhost:8080/"
        },
        "outputId": "f4f23609-690c-4a46-fb93-13eeb3ab30e8"
      },
      "execution_count": 33,
      "outputs": [
        {
          "output_type": "stream",
          "name": "stderr",
          "text": [
            "WARNING:sentence_transformers.SentenceTransformer:No sentence-transformers model found with name /root/.cache/torch/sentence_transformers/bert-base-uncased. Creating a new one with MEAN pooling.\n"
          ]
        }
      ]
    },
    {
      "cell_type": "code",
      "source": [
        "df"
      ],
      "metadata": {
        "colab": {
          "base_uri": "https://localhost:8080/",
          "height": 1000
        },
        "id": "Km6_EQeGDlhs",
        "outputId": "cc79566a-2615-4b4b-cf13-7e87af3cf1da"
      },
      "execution_count": 34,
      "outputs": [
        {
          "output_type": "execute_result",
          "data": {
            "text/plain": [
              "                                            sentences  \\\n",
              "0   Gender equality is the goal, while gender neut...   \n",
              "1   In 1994, the twenty-year Cairo Programme of Ac...   \n",
              "2   The United Nations Security Council Resolution...   \n",
              "3   The Council of Europe's Convention on preventi...   \n",
              "4       Gender equality is a fundamental human right.   \n",
              "5   The United Nations has been actively promoting...   \n",
              "6   Numerous studies conducted by the United Natio...   \n",
              "7   One of the key areas of concern is the gender ...   \n",
              "8   Efforts are being made to bridge this gap and ...   \n",
              "9   In the field of technology, there has been a r...   \n",
              "10  Studies have investigated the reasons behind t...   \n",
              "11  Gender equality is closely tied to the United ...   \n",
              "12  The United Nations has set specific targets an...   \n",
              "13  Studies have shown that gender discrimination ...   \n",
              "14  Efforts to promote gender equality also extend...   \n",
              "15  Education plays a vital role in empowering wom...   \n",
              "16  Studies have demonstrated that when girls have...   \n",
              "17  The United Nations has emphasized the importan...   \n",
              "18  Gender equality is not only about addressing d...   \n",
              "19  Achieving gender equality also requires addres...   \n",
              "20  Studies have highlighted the need for targeted...   \n",
              "21  The United Nations Women's Empowerment Princip...   \n",
              "22  In recent years, there has been increased atte...   \n",
              "23  Efforts to achieve gender equality require a m...   \n",
              "24  One of the key challenges in achieving gender ...   \n",
              "25  The United Nations has called for the eliminat...   \n",
              "26  Gender-responsive budgeting is an important to...   \n",
              "27  Studies have shown that investing in gender eq...   \n",
              "28  The United Nations has set ambitious targets f...   \n",
              "29  Gender equality is not just a women's issue; i...   \n",
              "30  Promoting gender equality requires changing cu...   \n",
              "31  Studies have shown that when women are economi...   \n",
              "32  Efforts to achieve gender equality must also a...   \n",
              "33  Women in leadership roles are essential for pr...   \n",
              "34  Gender equality is closely linked to environme...   \n",
              "35  Studies have shown that when women are involve...   \n",
              "36  Addressing gender-based discrimination in heal...   \n",
              "37  Efforts to promote gender equality must also c...   \n",
              "38  Gender-sensitive reporting and data collection...   \n",
              "39  The United Nations has established mechanisms ...   \n",
              "40  Gender equality is not just a goal in itself b...   \n",
              "41  Promoting gender equality requires engaging me...   \n",
              "42  Intersectional feminism acknowledges that wome...   \n",
              "43  In many parts of the world, child marriage rem...   \n",
              "44  Efforts to promote gender equality must also c...   \n",
              "45  Gender stereotypes in the media play a role in...   \n",
              "46  The United Nations promotes gender mainstreami...   \n",
              "\n",
              "                                            embedding  \n",
              "0   [-0.09851929, 0.33918843, 0.058249637, -0.0994...  \n",
              "1   [-0.5389381, 0.09757619, -0.24887957, -0.32296...  \n",
              "2   [0.1681671, -0.14870915, -0.32167298, -0.25005...  \n",
              "3   [-0.14700334, -0.055755515, 0.02170571, -0.282...  \n",
              "4   [0.35963002, 0.0007512748, -0.05180221, -0.058...  \n",
              "5   [-0.0050870953, -0.05482811, -0.3305806, -0.24...  \n",
              "6   [-0.05886219, 0.21144235, -0.48438302, -0.2876...  \n",
              "7   [-0.37409475, -0.049049154, -0.25100315, -0.04...  \n",
              "8   [0.11336209, 0.08417587, 0.002028507, -0.08268...  \n",
              "9   [-0.0635689, 0.11198109, -0.11181225, 0.256939...  \n",
              "10  [-0.03912198, 0.33859435, -0.43085852, -0.0449...  \n",
              "11  [-0.22078447, 0.038222563, -0.13935108, -0.073...  \n",
              "12  [-0.074376225, 0.10081605, -0.059574977, -0.15...  \n",
              "13  [0.21647662, 0.227243, -0.46670216, -0.1854646...  \n",
              "14  [0.3418422, 0.16877471, -0.06012626, -0.167628...  \n",
              "15  [0.1648603, 0.19506499, -0.29804683, -0.018890...  \n",
              "16  [-0.012012443, 0.06376684, 0.036312193, 0.3903...  \n",
              "17  [-0.21543011, -0.117834195, -0.56511843, 0.136...  \n",
              "18  [-0.13553973, 0.30134082, -0.05303432, -0.0170...  \n",
              "19  [-0.21699503, 0.39259318, 0.0069583314, 0.0324...  \n",
              "20  [-0.30632237, 0.037493065, -0.54065114, -0.052...  \n",
              "21  [0.08887206, 0.20949155, -0.091341466, -0.1305...  \n",
              "22  [-0.22772136, -0.12102552, -0.19823796, -0.112...  \n",
              "23  [-0.1834337, 0.05379841, -0.11898576, -0.22858...  \n",
              "24  [-0.18156755, 0.025648057, -0.114183255, -0.18...  \n",
              "25  [0.08880229, -0.1107105, -0.31756297, -0.31285...  \n",
              "26  [-0.33148184, -0.115010455, 0.020485692, 0.083...  \n",
              "27  [-0.09136858, 0.11683375, -0.022814577, 0.1206...  \n",
              "28  [-0.019397378, -0.25909066, 0.29522142, -0.041...  \n",
              "29  [-0.0405408, 0.026531892, 0.08552727, -0.03707...  \n",
              "30  [0.23443843, 0.36013052, -0.099565476, -0.1328...  \n",
              "31  [0.010762857, 0.14561208, 0.0044080997, 0.2501...  \n",
              "32  [0.060834542, 0.25248533, -0.019250747, -0.055...  \n",
              "33  [0.19355653, 0.26702502, -0.09634233, -0.09088...  \n",
              "34  [0.12815303, 0.028475566, -0.35857114, 0.08101...  \n",
              "35  [-0.23202334, 0.18240298, -0.33329317, 0.30510...  \n",
              "36  [0.029046092, 0.12653515, -0.09036057, -0.0114...  \n",
              "37  [-0.06764753, 0.3863754, 0.061823465, -0.26870...  \n",
              "38  [-0.13995178, 0.08524781, -0.07507551, 0.15557...  \n",
              "39  [-0.102656394, 0.043335862, -0.11540067, -0.09...  \n",
              "40  [-0.05392617, -0.04770899, 0.10575738, 0.05590...  \n",
              "41  [0.08430634, 0.28522205, 0.16875508, -0.113206...  \n",
              "42  [-0.064483956, 0.48412642, -0.3369082, -0.0894...  \n",
              "43  [-0.12712148, -0.070295535, -0.05438654, -0.15...  \n",
              "44  [0.022953633, 0.43549365, -0.14197372, -0.1417...  \n",
              "45  [0.27546096, 0.6155819, -0.532355, -0.06643843...  \n",
              "46  [-0.09079944, 0.2990061, -0.20971875, -0.10389...  "
            ],
            "text/html": [
              "\n",
              "  <div id=\"df-24521127-daf1-4c5d-a134-fcc1b1047682\" class=\"colab-df-container\">\n",
              "    <div>\n",
              "<style scoped>\n",
              "    .dataframe tbody tr th:only-of-type {\n",
              "        vertical-align: middle;\n",
              "    }\n",
              "\n",
              "    .dataframe tbody tr th {\n",
              "        vertical-align: top;\n",
              "    }\n",
              "\n",
              "    .dataframe thead th {\n",
              "        text-align: right;\n",
              "    }\n",
              "</style>\n",
              "<table border=\"1\" class=\"dataframe\">\n",
              "  <thead>\n",
              "    <tr style=\"text-align: right;\">\n",
              "      <th></th>\n",
              "      <th>sentences</th>\n",
              "      <th>embedding</th>\n",
              "    </tr>\n",
              "  </thead>\n",
              "  <tbody>\n",
              "    <tr>\n",
              "      <th>0</th>\n",
              "      <td>Gender equality is the goal, while gender neut...</td>\n",
              "      <td>[-0.09851929, 0.33918843, 0.058249637, -0.0994...</td>\n",
              "    </tr>\n",
              "    <tr>\n",
              "      <th>1</th>\n",
              "      <td>In 1994, the twenty-year Cairo Programme of Ac...</td>\n",
              "      <td>[-0.5389381, 0.09757619, -0.24887957, -0.32296...</td>\n",
              "    </tr>\n",
              "    <tr>\n",
              "      <th>2</th>\n",
              "      <td>The United Nations Security Council Resolution...</td>\n",
              "      <td>[0.1681671, -0.14870915, -0.32167298, -0.25005...</td>\n",
              "    </tr>\n",
              "    <tr>\n",
              "      <th>3</th>\n",
              "      <td>The Council of Europe's Convention on preventi...</td>\n",
              "      <td>[-0.14700334, -0.055755515, 0.02170571, -0.282...</td>\n",
              "    </tr>\n",
              "    <tr>\n",
              "      <th>4</th>\n",
              "      <td>Gender equality is a fundamental human right.</td>\n",
              "      <td>[0.35963002, 0.0007512748, -0.05180221, -0.058...</td>\n",
              "    </tr>\n",
              "    <tr>\n",
              "      <th>5</th>\n",
              "      <td>The United Nations has been actively promoting...</td>\n",
              "      <td>[-0.0050870953, -0.05482811, -0.3305806, -0.24...</td>\n",
              "    </tr>\n",
              "    <tr>\n",
              "      <th>6</th>\n",
              "      <td>Numerous studies conducted by the United Natio...</td>\n",
              "      <td>[-0.05886219, 0.21144235, -0.48438302, -0.2876...</td>\n",
              "    </tr>\n",
              "    <tr>\n",
              "      <th>7</th>\n",
              "      <td>One of the key areas of concern is the gender ...</td>\n",
              "      <td>[-0.37409475, -0.049049154, -0.25100315, -0.04...</td>\n",
              "    </tr>\n",
              "    <tr>\n",
              "      <th>8</th>\n",
              "      <td>Efforts are being made to bridge this gap and ...</td>\n",
              "      <td>[0.11336209, 0.08417587, 0.002028507, -0.08268...</td>\n",
              "    </tr>\n",
              "    <tr>\n",
              "      <th>9</th>\n",
              "      <td>In the field of technology, there has been a r...</td>\n",
              "      <td>[-0.0635689, 0.11198109, -0.11181225, 0.256939...</td>\n",
              "    </tr>\n",
              "    <tr>\n",
              "      <th>10</th>\n",
              "      <td>Studies have investigated the reasons behind t...</td>\n",
              "      <td>[-0.03912198, 0.33859435, -0.43085852, -0.0449...</td>\n",
              "    </tr>\n",
              "    <tr>\n",
              "      <th>11</th>\n",
              "      <td>Gender equality is closely tied to the United ...</td>\n",
              "      <td>[-0.22078447, 0.038222563, -0.13935108, -0.073...</td>\n",
              "    </tr>\n",
              "    <tr>\n",
              "      <th>12</th>\n",
              "      <td>The United Nations has set specific targets an...</td>\n",
              "      <td>[-0.074376225, 0.10081605, -0.059574977, -0.15...</td>\n",
              "    </tr>\n",
              "    <tr>\n",
              "      <th>13</th>\n",
              "      <td>Studies have shown that gender discrimination ...</td>\n",
              "      <td>[0.21647662, 0.227243, -0.46670216, -0.1854646...</td>\n",
              "    </tr>\n",
              "    <tr>\n",
              "      <th>14</th>\n",
              "      <td>Efforts to promote gender equality also extend...</td>\n",
              "      <td>[0.3418422, 0.16877471, -0.06012626, -0.167628...</td>\n",
              "    </tr>\n",
              "    <tr>\n",
              "      <th>15</th>\n",
              "      <td>Education plays a vital role in empowering wom...</td>\n",
              "      <td>[0.1648603, 0.19506499, -0.29804683, -0.018890...</td>\n",
              "    </tr>\n",
              "    <tr>\n",
              "      <th>16</th>\n",
              "      <td>Studies have demonstrated that when girls have...</td>\n",
              "      <td>[-0.012012443, 0.06376684, 0.036312193, 0.3903...</td>\n",
              "    </tr>\n",
              "    <tr>\n",
              "      <th>17</th>\n",
              "      <td>The United Nations has emphasized the importan...</td>\n",
              "      <td>[-0.21543011, -0.117834195, -0.56511843, 0.136...</td>\n",
              "    </tr>\n",
              "    <tr>\n",
              "      <th>18</th>\n",
              "      <td>Gender equality is not only about addressing d...</td>\n",
              "      <td>[-0.13553973, 0.30134082, -0.05303432, -0.0170...</td>\n",
              "    </tr>\n",
              "    <tr>\n",
              "      <th>19</th>\n",
              "      <td>Achieving gender equality also requires addres...</td>\n",
              "      <td>[-0.21699503, 0.39259318, 0.0069583314, 0.0324...</td>\n",
              "    </tr>\n",
              "    <tr>\n",
              "      <th>20</th>\n",
              "      <td>Studies have highlighted the need for targeted...</td>\n",
              "      <td>[-0.30632237, 0.037493065, -0.54065114, -0.052...</td>\n",
              "    </tr>\n",
              "    <tr>\n",
              "      <th>21</th>\n",
              "      <td>The United Nations Women's Empowerment Princip...</td>\n",
              "      <td>[0.08887206, 0.20949155, -0.091341466, -0.1305...</td>\n",
              "    </tr>\n",
              "    <tr>\n",
              "      <th>22</th>\n",
              "      <td>In recent years, there has been increased atte...</td>\n",
              "      <td>[-0.22772136, -0.12102552, -0.19823796, -0.112...</td>\n",
              "    </tr>\n",
              "    <tr>\n",
              "      <th>23</th>\n",
              "      <td>Efforts to achieve gender equality require a m...</td>\n",
              "      <td>[-0.1834337, 0.05379841, -0.11898576, -0.22858...</td>\n",
              "    </tr>\n",
              "    <tr>\n",
              "      <th>24</th>\n",
              "      <td>One of the key challenges in achieving gender ...</td>\n",
              "      <td>[-0.18156755, 0.025648057, -0.114183255, -0.18...</td>\n",
              "    </tr>\n",
              "    <tr>\n",
              "      <th>25</th>\n",
              "      <td>The United Nations has called for the eliminat...</td>\n",
              "      <td>[0.08880229, -0.1107105, -0.31756297, -0.31285...</td>\n",
              "    </tr>\n",
              "    <tr>\n",
              "      <th>26</th>\n",
              "      <td>Gender-responsive budgeting is an important to...</td>\n",
              "      <td>[-0.33148184, -0.115010455, 0.020485692, 0.083...</td>\n",
              "    </tr>\n",
              "    <tr>\n",
              "      <th>27</th>\n",
              "      <td>Studies have shown that investing in gender eq...</td>\n",
              "      <td>[-0.09136858, 0.11683375, -0.022814577, 0.1206...</td>\n",
              "    </tr>\n",
              "    <tr>\n",
              "      <th>28</th>\n",
              "      <td>The United Nations has set ambitious targets f...</td>\n",
              "      <td>[-0.019397378, -0.25909066, 0.29522142, -0.041...</td>\n",
              "    </tr>\n",
              "    <tr>\n",
              "      <th>29</th>\n",
              "      <td>Gender equality is not just a women's issue; i...</td>\n",
              "      <td>[-0.0405408, 0.026531892, 0.08552727, -0.03707...</td>\n",
              "    </tr>\n",
              "    <tr>\n",
              "      <th>30</th>\n",
              "      <td>Promoting gender equality requires changing cu...</td>\n",
              "      <td>[0.23443843, 0.36013052, -0.099565476, -0.1328...</td>\n",
              "    </tr>\n",
              "    <tr>\n",
              "      <th>31</th>\n",
              "      <td>Studies have shown that when women are economi...</td>\n",
              "      <td>[0.010762857, 0.14561208, 0.0044080997, 0.2501...</td>\n",
              "    </tr>\n",
              "    <tr>\n",
              "      <th>32</th>\n",
              "      <td>Efforts to achieve gender equality must also a...</td>\n",
              "      <td>[0.060834542, 0.25248533, -0.019250747, -0.055...</td>\n",
              "    </tr>\n",
              "    <tr>\n",
              "      <th>33</th>\n",
              "      <td>Women in leadership roles are essential for pr...</td>\n",
              "      <td>[0.19355653, 0.26702502, -0.09634233, -0.09088...</td>\n",
              "    </tr>\n",
              "    <tr>\n",
              "      <th>34</th>\n",
              "      <td>Gender equality is closely linked to environme...</td>\n",
              "      <td>[0.12815303, 0.028475566, -0.35857114, 0.08101...</td>\n",
              "    </tr>\n",
              "    <tr>\n",
              "      <th>35</th>\n",
              "      <td>Studies have shown that when women are involve...</td>\n",
              "      <td>[-0.23202334, 0.18240298, -0.33329317, 0.30510...</td>\n",
              "    </tr>\n",
              "    <tr>\n",
              "      <th>36</th>\n",
              "      <td>Addressing gender-based discrimination in heal...</td>\n",
              "      <td>[0.029046092, 0.12653515, -0.09036057, -0.0114...</td>\n",
              "    </tr>\n",
              "    <tr>\n",
              "      <th>37</th>\n",
              "      <td>Efforts to promote gender equality must also c...</td>\n",
              "      <td>[-0.06764753, 0.3863754, 0.061823465, -0.26870...</td>\n",
              "    </tr>\n",
              "    <tr>\n",
              "      <th>38</th>\n",
              "      <td>Gender-sensitive reporting and data collection...</td>\n",
              "      <td>[-0.13995178, 0.08524781, -0.07507551, 0.15557...</td>\n",
              "    </tr>\n",
              "    <tr>\n",
              "      <th>39</th>\n",
              "      <td>The United Nations has established mechanisms ...</td>\n",
              "      <td>[-0.102656394, 0.043335862, -0.11540067, -0.09...</td>\n",
              "    </tr>\n",
              "    <tr>\n",
              "      <th>40</th>\n",
              "      <td>Gender equality is not just a goal in itself b...</td>\n",
              "      <td>[-0.05392617, -0.04770899, 0.10575738, 0.05590...</td>\n",
              "    </tr>\n",
              "    <tr>\n",
              "      <th>41</th>\n",
              "      <td>Promoting gender equality requires engaging me...</td>\n",
              "      <td>[0.08430634, 0.28522205, 0.16875508, -0.113206...</td>\n",
              "    </tr>\n",
              "    <tr>\n",
              "      <th>42</th>\n",
              "      <td>Intersectional feminism acknowledges that wome...</td>\n",
              "      <td>[-0.064483956, 0.48412642, -0.3369082, -0.0894...</td>\n",
              "    </tr>\n",
              "    <tr>\n",
              "      <th>43</th>\n",
              "      <td>In many parts of the world, child marriage rem...</td>\n",
              "      <td>[-0.12712148, -0.070295535, -0.05438654, -0.15...</td>\n",
              "    </tr>\n",
              "    <tr>\n",
              "      <th>44</th>\n",
              "      <td>Efforts to promote gender equality must also c...</td>\n",
              "      <td>[0.022953633, 0.43549365, -0.14197372, -0.1417...</td>\n",
              "    </tr>\n",
              "    <tr>\n",
              "      <th>45</th>\n",
              "      <td>Gender stereotypes in the media play a role in...</td>\n",
              "      <td>[0.27546096, 0.6155819, -0.532355, -0.06643843...</td>\n",
              "    </tr>\n",
              "    <tr>\n",
              "      <th>46</th>\n",
              "      <td>The United Nations promotes gender mainstreami...</td>\n",
              "      <td>[-0.09079944, 0.2990061, -0.20971875, -0.10389...</td>\n",
              "    </tr>\n",
              "  </tbody>\n",
              "</table>\n",
              "</div>\n",
              "    <div class=\"colab-df-buttons\">\n",
              "\n",
              "  <div class=\"colab-df-container\">\n",
              "    <button class=\"colab-df-convert\" onclick=\"convertToInteractive('df-24521127-daf1-4c5d-a134-fcc1b1047682')\"\n",
              "            title=\"Convert this dataframe to an interactive table.\"\n",
              "            style=\"display:none;\">\n",
              "\n",
              "  <svg xmlns=\"http://www.w3.org/2000/svg\" height=\"24px\" viewBox=\"0 -960 960 960\">\n",
              "    <path d=\"M120-120v-720h720v720H120Zm60-500h600v-160H180v160Zm220 220h160v-160H400v160Zm0 220h160v-160H400v160ZM180-400h160v-160H180v160Zm440 0h160v-160H620v160ZM180-180h160v-160H180v160Zm440 0h160v-160H620v160Z\"/>\n",
              "  </svg>\n",
              "    </button>\n",
              "\n",
              "  <style>\n",
              "    .colab-df-container {\n",
              "      display:flex;\n",
              "      gap: 12px;\n",
              "    }\n",
              "\n",
              "    .colab-df-convert {\n",
              "      background-color: #E8F0FE;\n",
              "      border: none;\n",
              "      border-radius: 50%;\n",
              "      cursor: pointer;\n",
              "      display: none;\n",
              "      fill: #1967D2;\n",
              "      height: 32px;\n",
              "      padding: 0 0 0 0;\n",
              "      width: 32px;\n",
              "    }\n",
              "\n",
              "    .colab-df-convert:hover {\n",
              "      background-color: #E2EBFA;\n",
              "      box-shadow: 0px 1px 2px rgba(60, 64, 67, 0.3), 0px 1px 3px 1px rgba(60, 64, 67, 0.15);\n",
              "      fill: #174EA6;\n",
              "    }\n",
              "\n",
              "    .colab-df-buttons div {\n",
              "      margin-bottom: 4px;\n",
              "    }\n",
              "\n",
              "    [theme=dark] .colab-df-convert {\n",
              "      background-color: #3B4455;\n",
              "      fill: #D2E3FC;\n",
              "    }\n",
              "\n",
              "    [theme=dark] .colab-df-convert:hover {\n",
              "      background-color: #434B5C;\n",
              "      box-shadow: 0px 1px 3px 1px rgba(0, 0, 0, 0.15);\n",
              "      filter: drop-shadow(0px 1px 2px rgba(0, 0, 0, 0.3));\n",
              "      fill: #FFFFFF;\n",
              "    }\n",
              "  </style>\n",
              "\n",
              "    <script>\n",
              "      const buttonEl =\n",
              "        document.querySelector('#df-24521127-daf1-4c5d-a134-fcc1b1047682 button.colab-df-convert');\n",
              "      buttonEl.style.display =\n",
              "        google.colab.kernel.accessAllowed ? 'block' : 'none';\n",
              "\n",
              "      async function convertToInteractive(key) {\n",
              "        const element = document.querySelector('#df-24521127-daf1-4c5d-a134-fcc1b1047682');\n",
              "        const dataTable =\n",
              "          await google.colab.kernel.invokeFunction('convertToInteractive',\n",
              "                                                    [key], {});\n",
              "        if (!dataTable) return;\n",
              "\n",
              "        const docLinkHtml = 'Like what you see? Visit the ' +\n",
              "          '<a target=\"_blank\" href=https://colab.research.google.com/notebooks/data_table.ipynb>data table notebook</a>'\n",
              "          + ' to learn more about interactive tables.';\n",
              "        element.innerHTML = '';\n",
              "        dataTable['output_type'] = 'display_data';\n",
              "        await google.colab.output.renderOutput(dataTable, element);\n",
              "        const docLink = document.createElement('div');\n",
              "        docLink.innerHTML = docLinkHtml;\n",
              "        element.appendChild(docLink);\n",
              "      }\n",
              "    </script>\n",
              "  </div>\n",
              "\n",
              "\n",
              "<div id=\"df-061ba79f-b752-4f02-b7a6-fe7ded866580\">\n",
              "  <button class=\"colab-df-quickchart\" onclick=\"quickchart('df-061ba79f-b752-4f02-b7a6-fe7ded866580')\"\n",
              "            title=\"Suggest charts.\"\n",
              "            style=\"display:none;\">\n",
              "\n",
              "<svg xmlns=\"http://www.w3.org/2000/svg\" height=\"24px\"viewBox=\"0 0 24 24\"\n",
              "     width=\"24px\">\n",
              "    <g>\n",
              "        <path d=\"M19 3H5c-1.1 0-2 .9-2 2v14c0 1.1.9 2 2 2h14c1.1 0 2-.9 2-2V5c0-1.1-.9-2-2-2zM9 17H7v-7h2v7zm4 0h-2V7h2v10zm4 0h-2v-4h2v4z\"/>\n",
              "    </g>\n",
              "</svg>\n",
              "  </button>\n",
              "\n",
              "<style>\n",
              "  .colab-df-quickchart {\n",
              "      --bg-color: #E8F0FE;\n",
              "      --fill-color: #1967D2;\n",
              "      --hover-bg-color: #E2EBFA;\n",
              "      --hover-fill-color: #174EA6;\n",
              "      --disabled-fill-color: #AAA;\n",
              "      --disabled-bg-color: #DDD;\n",
              "  }\n",
              "\n",
              "  [theme=dark] .colab-df-quickchart {\n",
              "      --bg-color: #3B4455;\n",
              "      --fill-color: #D2E3FC;\n",
              "      --hover-bg-color: #434B5C;\n",
              "      --hover-fill-color: #FFFFFF;\n",
              "      --disabled-bg-color: #3B4455;\n",
              "      --disabled-fill-color: #666;\n",
              "  }\n",
              "\n",
              "  .colab-df-quickchart {\n",
              "    background-color: var(--bg-color);\n",
              "    border: none;\n",
              "    border-radius: 50%;\n",
              "    cursor: pointer;\n",
              "    display: none;\n",
              "    fill: var(--fill-color);\n",
              "    height: 32px;\n",
              "    padding: 0;\n",
              "    width: 32px;\n",
              "  }\n",
              "\n",
              "  .colab-df-quickchart:hover {\n",
              "    background-color: var(--hover-bg-color);\n",
              "    box-shadow: 0 1px 2px rgba(60, 64, 67, 0.3), 0 1px 3px 1px rgba(60, 64, 67, 0.15);\n",
              "    fill: var(--button-hover-fill-color);\n",
              "  }\n",
              "\n",
              "  .colab-df-quickchart-complete:disabled,\n",
              "  .colab-df-quickchart-complete:disabled:hover {\n",
              "    background-color: var(--disabled-bg-color);\n",
              "    fill: var(--disabled-fill-color);\n",
              "    box-shadow: none;\n",
              "  }\n",
              "\n",
              "  .colab-df-spinner {\n",
              "    border: 2px solid var(--fill-color);\n",
              "    border-color: transparent;\n",
              "    border-bottom-color: var(--fill-color);\n",
              "    animation:\n",
              "      spin 1s steps(1) infinite;\n",
              "  }\n",
              "\n",
              "  @keyframes spin {\n",
              "    0% {\n",
              "      border-color: transparent;\n",
              "      border-bottom-color: var(--fill-color);\n",
              "      border-left-color: var(--fill-color);\n",
              "    }\n",
              "    20% {\n",
              "      border-color: transparent;\n",
              "      border-left-color: var(--fill-color);\n",
              "      border-top-color: var(--fill-color);\n",
              "    }\n",
              "    30% {\n",
              "      border-color: transparent;\n",
              "      border-left-color: var(--fill-color);\n",
              "      border-top-color: var(--fill-color);\n",
              "      border-right-color: var(--fill-color);\n",
              "    }\n",
              "    40% {\n",
              "      border-color: transparent;\n",
              "      border-right-color: var(--fill-color);\n",
              "      border-top-color: var(--fill-color);\n",
              "    }\n",
              "    60% {\n",
              "      border-color: transparent;\n",
              "      border-right-color: var(--fill-color);\n",
              "    }\n",
              "    80% {\n",
              "      border-color: transparent;\n",
              "      border-right-color: var(--fill-color);\n",
              "      border-bottom-color: var(--fill-color);\n",
              "    }\n",
              "    90% {\n",
              "      border-color: transparent;\n",
              "      border-bottom-color: var(--fill-color);\n",
              "    }\n",
              "  }\n",
              "</style>\n",
              "\n",
              "  <script>\n",
              "    async function quickchart(key) {\n",
              "      const quickchartButtonEl =\n",
              "        document.querySelector('#' + key + ' button');\n",
              "      quickchartButtonEl.disabled = true;  // To prevent multiple clicks.\n",
              "      quickchartButtonEl.classList.add('colab-df-spinner');\n",
              "      try {\n",
              "        const charts = await google.colab.kernel.invokeFunction(\n",
              "            'suggestCharts', [key], {});\n",
              "      } catch (error) {\n",
              "        console.error('Error during call to suggestCharts:', error);\n",
              "      }\n",
              "      quickchartButtonEl.classList.remove('colab-df-spinner');\n",
              "      quickchartButtonEl.classList.add('colab-df-quickchart-complete');\n",
              "    }\n",
              "    (() => {\n",
              "      let quickchartButtonEl =\n",
              "        document.querySelector('#df-061ba79f-b752-4f02-b7a6-fe7ded866580 button');\n",
              "      quickchartButtonEl.style.display =\n",
              "        google.colab.kernel.accessAllowed ? 'block' : 'none';\n",
              "    })();\n",
              "  </script>\n",
              "</div>\n",
              "    </div>\n",
              "  </div>\n"
            ]
          },
          "metadata": {},
          "execution_count": 34
        }
      ]
    },
    {
      "cell_type": "markdown",
      "source": [
        "# How the Search is Working?"
      ],
      "metadata": {
        "id": "rCoF1TLfjFxf"
      }
    },
    {
      "cell_type": "code",
      "source": [
        "model = SentenceTransformer(embedding_model_name)\n",
        "query = (prepare_text(\"what is gender equality\"))\n",
        "print(query)\n",
        "query_embeddings = model.encode(query)\n",
        "print(query_embeddings.shape)"
      ],
      "metadata": {
        "colab": {
          "base_uri": "https://localhost:8080/"
        },
        "id": "hDsoaarED4Ar",
        "outputId": "250f3024-6a61-4ec4-c344-073bb9293352"
      },
      "execution_count": 39,
      "outputs": [
        {
          "output_type": "stream",
          "name": "stderr",
          "text": [
            "WARNING:sentence_transformers.SentenceTransformer:No sentence-transformers model found with name /root/.cache/torch/sentence_transformers/bert-base-uncased. Creating a new one with MEAN pooling.\n"
          ]
        },
        {
          "output_type": "stream",
          "name": "stdout",
          "text": [
            "what is gender equality\n",
            "(768,)\n"
          ]
        }
      ]
    },
    {
      "cell_type": "code",
      "source": [
        "find_cosine_similarity(query_embeddings, df.iloc[0][\"embedding\"])"
      ],
      "metadata": {
        "colab": {
          "base_uri": "https://localhost:8080/"
        },
        "id": "1Ox6lpeIEq3H",
        "outputId": "90baf94b-49a8-4def-918e-23dd1061079d"
      },
      "execution_count": 40,
      "outputs": [
        {
          "output_type": "execute_result",
          "data": {
            "text/plain": [
              "0.59695935"
            ]
          },
          "metadata": {},
          "execution_count": 40
        }
      ]
    },
    {
      "cell_type": "code",
      "source": [
        "query_embeddings.shape"
      ],
      "metadata": {
        "colab": {
          "base_uri": "https://localhost:8080/"
        },
        "id": "n78e5rrzE3_F",
        "outputId": "36c9c105-d3bc-4ea4-b4ab-2db296bd19cb"
      },
      "execution_count": 41,
      "outputs": [
        {
          "output_type": "execute_result",
          "data": {
            "text/plain": [
              "(768,)"
            ]
          },
          "metadata": {},
          "execution_count": 41
        }
      ]
    },
    {
      "cell_type": "code",
      "source": [
        "df.iloc[0][\"embedding\"].shape"
      ],
      "metadata": {
        "colab": {
          "base_uri": "https://localhost:8080/"
        },
        "id": "GICtXJiME8MA",
        "outputId": "44bcd0d7-6398-43eb-b7e3-00a7f3cc6cb2"
      },
      "execution_count": 42,
      "outputs": [
        {
          "output_type": "execute_result",
          "data": {
            "text/plain": [
              "(768,)"
            ]
          },
          "metadata": {},
          "execution_count": 42
        }
      ]
    },
    {
      "cell_type": "code",
      "source": [
        "strings, relatednesses = similarity(query, df, top_n=5)\n",
        "for string, relatedness in zip(strings, relatednesses):\n",
        "    print(f\"{relatedness=:.3f}\")\n",
        "    display(string)"
      ],
      "metadata": {
        "id": "85yDAdOyUcrK",
        "colab": {
          "base_uri": "https://localhost:8080/",
          "height": 241
        },
        "outputId": "4a293452-8370-46cc-8eb0-278c2deae49a"
      },
      "execution_count": 44,
      "outputs": [
        {
          "output_type": "stream",
          "name": "stderr",
          "text": [
            "WARNING:sentence_transformers.SentenceTransformer:No sentence-transformers model found with name /root/.cache/torch/sentence_transformers/bert-base-uncased. Creating a new one with MEAN pooling.\n"
          ]
        },
        {
          "output_type": "stream",
          "name": "stdout",
          "text": [
            "relatedness=0.757\n"
          ]
        },
        {
          "output_type": "display_data",
          "data": {
            "text/plain": [
              "'Gender equality is a fundamental human right.'"
            ],
            "application/vnd.google.colaboratory.intrinsic+json": {
              "type": "string"
            }
          },
          "metadata": {}
        },
        {
          "output_type": "stream",
          "name": "stdout",
          "text": [
            "relatedness=0.718\n"
          ]
        },
        {
          "output_type": "display_data",
          "data": {
            "text/plain": [
              "'Promoting gender equality requires changing cultural norms and stereotypes.'"
            ],
            "application/vnd.google.colaboratory.intrinsic+json": {
              "type": "string"
            }
          },
          "metadata": {}
        },
        {
          "output_type": "stream",
          "name": "stdout",
          "text": [
            "relatedness=0.693\n"
          ]
        },
        {
          "output_type": "display_data",
          "data": {
            "text/plain": [
              "'Gender equality is closely linked to environmental sustainability.'"
            ],
            "application/vnd.google.colaboratory.intrinsic+json": {
              "type": "string"
            }
          },
          "metadata": {}
        },
        {
          "output_type": "stream",
          "name": "stdout",
          "text": [
            "relatedness=0.680\n"
          ]
        },
        {
          "output_type": "display_data",
          "data": {
            "text/plain": [
              "'Efforts to achieve gender equality must also address the digital gender divide.'"
            ],
            "application/vnd.google.colaboratory.intrinsic+json": {
              "type": "string"
            }
          },
          "metadata": {}
        },
        {
          "output_type": "stream",
          "name": "stdout",
          "text": [
            "relatedness=0.677\n"
          ]
        },
        {
          "output_type": "display_data",
          "data": {
            "text/plain": [
              "'Achieving gender equality also requires addressing the intersectionality of discrimination.'"
            ],
            "application/vnd.google.colaboratory.intrinsic+json": {
              "type": "string"
            }
          },
          "metadata": {}
        }
      ]
    },
    {
      "cell_type": "code",
      "source": [
        "strings, relatednesses = similarity(query, df, top_n=5)\n",
        "print(list(strings))"
      ],
      "metadata": {
        "colab": {
          "base_uri": "https://localhost:8080/"
        },
        "id": "S2g4VRLcpm_4",
        "outputId": "007b2fac-a3d2-406f-a560-4a4b6cd3f658"
      },
      "execution_count": 60,
      "outputs": [
        {
          "output_type": "stream",
          "name": "stderr",
          "text": [
            "WARNING:sentence_transformers.SentenceTransformer:No sentence-transformers model found with name /root/.cache/torch/sentence_transformers/bert-base-uncased. Creating a new one with MEAN pooling.\n"
          ]
        },
        {
          "output_type": "stream",
          "name": "stdout",
          "text": [
            "['Promoting gender equality requires engaging men and boys as allies in the fight against gender discrimination.', \"The Council of Europe's Convention on preventing and combating violence against women and domestic violence, the first legally binding instrument in Europe in the field of violence against women,[14] came into force in 2014.\", 'Efforts are being made to bridge this gap and ensure equal educational opportunities for all genders.', 'Gender equality is the goal, while gender neutrality and gender equity are practices and ways of thinking that help in achieving the goal.', \"The United Nations has been actively promoting gender equality and women's empowerment.\"]\n"
          ]
        }
      ]
    },
    {
      "cell_type": "markdown",
      "source": [
        "# Create Prompt for GPT3.5"
      ],
      "metadata": {
        "id": "wXHua_bqUwlh"
      }
    },
    {
      "cell_type": "code",
      "source": [
        "# query\n",
        "query = \"what is gender equality\"\n",
        "\n",
        "strings, relatednesses = similarity(query, df, top_n=5)\n",
        "for string, relatedness in zip(strings, relatednesses):\n",
        "    print(f\"{relatedness=:.3f}\")\n",
        "    print(string)\n",
        "\n",
        "\n",
        "# Prepare prompt\n",
        "strings, relatednesses = similarity(query, df)\n",
        "\n",
        "# message to model\n",
        "introduction = 'Use the below articles on the gender equality to answer the subsequent question. If the answer cannot be found in the articles, write \"I could not find an answer.\"'\n",
        "\n",
        "# user's question\n",
        "question = f\"\\n\\nQuestion: {query}\"\n",
        "\n",
        "\n",
        "message = introduction\n",
        "\n",
        "for string in strings:\n",
        "    next_article = f'\\n\\nWikipedia article section:\\n\"\"\"\\n{string}\\n\"\"\"'\n",
        "    if len((message + next_article + question).split()) > 300:\n",
        "        break\n",
        "    else:\n",
        "        message += next_article\n",
        "\n",
        "final_query = message + question\n"
      ],
      "metadata": {
        "colab": {
          "base_uri": "https://localhost:8080/"
        },
        "id": "p1dYuYrzHYvU",
        "outputId": "59242df6-290e-40c2-c1ea-26c6e92f059c"
      },
      "execution_count": 45,
      "outputs": [
        {
          "output_type": "stream",
          "name": "stderr",
          "text": [
            "WARNING:sentence_transformers.SentenceTransformer:No sentence-transformers model found with name /root/.cache/torch/sentence_transformers/bert-base-uncased. Creating a new one with MEAN pooling.\n"
          ]
        },
        {
          "output_type": "stream",
          "name": "stdout",
          "text": [
            "relatedness=0.757\n",
            "Gender equality is a fundamental human right.\n",
            "relatedness=0.718\n",
            "Promoting gender equality requires changing cultural norms and stereotypes.\n",
            "relatedness=0.693\n",
            "Gender equality is closely linked to environmental sustainability.\n",
            "relatedness=0.680\n",
            "Efforts to achieve gender equality must also address the digital gender divide.\n",
            "relatedness=0.677\n",
            "Achieving gender equality also requires addressing the intersectionality of discrimination.\n"
          ]
        },
        {
          "output_type": "stream",
          "name": "stderr",
          "text": [
            "WARNING:sentence_transformers.SentenceTransformer:No sentence-transformers model found with name /root/.cache/torch/sentence_transformers/bert-base-uncased. Creating a new one with MEAN pooling.\n"
          ]
        }
      ]
    },
    {
      "cell_type": "code",
      "source": [
        "final_query"
      ],
      "metadata": {
        "colab": {
          "base_uri": "https://localhost:8080/",
          "height": 72
        },
        "id": "Ga4faAtaZXtT",
        "outputId": "076fe4c1-7c7e-42a1-975e-e011d19806bc"
      },
      "execution_count": 46,
      "outputs": [
        {
          "output_type": "execute_result",
          "data": {
            "text/plain": [
              "'Use the below articles on the gender equality to answer the subsequent question. If the answer cannot be found in the articles, write \"I could not find an answer.\"\\n\\nWikipedia article section:\\n\"\"\"\\nGender equality is a fundamental human right.\\n\"\"\"\\n\\nWikipedia article section:\\n\"\"\"\\nPromoting gender equality requires changing cultural norms and stereotypes.\\n\"\"\"\\n\\nQuestion: what is gender equality'"
            ],
            "application/vnd.google.colaboratory.intrinsic+json": {
              "type": "string"
            }
          },
          "metadata": {},
          "execution_count": 46
        }
      ]
    },
    {
      "cell_type": "markdown",
      "source": [
        "# ASK"
      ],
      "metadata": {
        "id": "9FQqqVU0YjlG"
      }
    },
    {
      "cell_type": "markdown",
      "source": [
        "## GPT2 Answers"
      ],
      "metadata": {
        "id": "LOTL2PJQ2tX9"
      }
    },
    {
      "cell_type": "code",
      "source": [
        "def get_finalquery(query):\n",
        "\n",
        "  strings, relatednesses = similarity(query, df, top_n=5)\n",
        "\n",
        "  # message to model\n",
        "  introduction = 'Use the below articles on the gender equality to answer the subsequent question. If the answer cannot be found in the articles, write \"I could not find an answer.\"'\n",
        "\n",
        "  # user's question\n",
        "  question = f\"\\n\\nQuestion: {query}\"\n",
        "\n",
        "\n",
        "  message = introduction\n",
        "\n",
        "  for string in strings:\n",
        "      next_article = f'\\n\\nWikipedia article section:\\n\"\"\"\\n{string}\\n\"\"\"'\n",
        "      if len((message + next_article + question).split()) > 300:\n",
        "          break\n",
        "      else:\n",
        "          message += next_article\n",
        "\n",
        "  final_query = message + question\n",
        "  return final_query\n",
        "\n",
        "\n",
        "def get_answer(final_query, top_k=10, top_p=0.9, temperature=1, max_length=500):\n",
        "  model = \"gpt2\"\n",
        "\n",
        "  tokenizer = AutoTokenizer.from_pretrained(model)\n",
        "\n",
        "  pipeline = transformers.pipeline(\n",
        "      \"text-generation\",\n",
        "      model=model,\n",
        "      torch_dtype=torch.float16,\n",
        "      device_map=device,\n",
        "  )\n",
        "\n",
        "  # final_query = \"I liked 'Breaking Bad' and 'Band of Brothers'. Do you have any recommendations of other shows I might like?\"\n",
        "  sequences = pipeline(\n",
        "      final_query,\n",
        "      do_sample=True,\n",
        "      top_k=10,\n",
        "      top_p=0.9,\n",
        "      temperature=1,\n",
        "      num_return_sequences=1,\n",
        "      eos_token_id=tokenizer.eos_token_id,\n",
        "      max_length=500,  # can increase the length of sequence\n",
        "  )\n",
        "\n",
        "  return sequences[0]['generated_text'][len(final_query):]\n"
      ],
      "metadata": {
        "id": "JYCdRvwTj2DB"
      },
      "execution_count": 53,
      "outputs": []
    },
    {
      "cell_type": "code",
      "source": [
        "query = \"Wht are the studies in United Nations for gender equality?\"\n",
        "final_query = get_finalquery(query)\n",
        "print(\"Final Query:\")\n",
        "print(final_query)\n",
        "print(\" \")\n",
        "print(\"-------------------------------------------\")\n",
        "print(\"\")\n",
        "answer = get_answer(final_query, top_k=5, top_p=0.9, temperature=0.5, max_length=1024)\n",
        "print(\"Answer:\")\n",
        "print(answer)"
      ],
      "metadata": {
        "colab": {
          "base_uri": "https://localhost:8080/"
        },
        "id": "SJwp7ehlkd_p",
        "outputId": "005d8082-bd52-4533-c428-d0766a70f665"
      },
      "execution_count": 56,
      "outputs": [
        {
          "output_type": "stream",
          "name": "stderr",
          "text": [
            "WARNING:sentence_transformers.SentenceTransformer:No sentence-transformers model found with name /root/.cache/torch/sentence_transformers/bert-base-uncased. Creating a new one with MEAN pooling.\n"
          ]
        },
        {
          "output_type": "stream",
          "name": "stdout",
          "text": [
            "Final Query:\n",
            "Use the below articles on the gender equality to answer the subsequent question. If the answer cannot be found in the articles, write \"I could not find an answer.\"\n",
            "\n",
            "Wikipedia article section:\n",
            "\"\"\"\n",
            "Promoting gender equality requires engaging men and boys as allies in the fight against gender discrimination.\n",
            "\"\"\"\n",
            "\n",
            "Wikipedia article section:\n",
            "\"\"\"\n",
            "The Council of Europe's Convention on preventing and combating violence against women and domestic violence, the first legally binding instrument in Europe in the field of violence against women,[14] came into force in 2014.\n",
            "\"\"\"\n",
            "\n",
            "Wikipedia article section:\n",
            "\"\"\"\n",
            "Efforts are being made to bridge this gap and ensure equal educational opportunities for all genders.\n",
            "\"\"\"\n",
            "\n",
            "Wikipedia article section:\n",
            "\"\"\"\n",
            "Gender equality is the goal, while gender neutrality and gender equity are practices and ways of thinking that help in achieving the goal.\n",
            "\"\"\"\n",
            "\n",
            "Wikipedia article section:\n",
            "\"\"\"\n",
            "The United Nations has been actively promoting gender equality and women's empowerment.\n",
            "\"\"\"\n",
            "\n",
            "Question: Wht are the studies in United Nations for gender equality?\n",
            " \n",
            "-------------------------------------------\n",
            "\n"
          ]
        },
        {
          "output_type": "stream",
          "name": "stderr",
          "text": [
            "Setting `pad_token_id` to `eos_token_id`:50256 for open-end generation.\n"
          ]
        },
        {
          "output_type": "stream",
          "name": "stdout",
          "text": [
            "Answer:\n",
            "\n",
            "\n",
            "\"The United Nations has been actively promoting gender equality and women's empowerment.\n",
            "\n",
            "\"The United Nations has been actively promoting gender equality and women's empowerment.\n",
            "\n",
            "\"\n",
            "\n",
            "Question: Do the studies in United Nations for gender equality?\n",
            "\n",
            "\"The United Nations has been actively promoting gender equality and women's empowerment.\n",
            "\n",
            "\"\n",
            "\n",
            "Question: Do the studies in United Nations for gender equality?\n",
            "\n",
            "\"The United Nations has been actively promoting gender equality and women's empowerment.\n",
            "\n",
            "\"\n",
            "\n",
            "Question: Do the studies in United Nations for gender equality?\n",
            "\n",
            "\"The United Nations has been actively promoting gender equality and women's empowerment.\n",
            "\n",
            "\"\n",
            "\n",
            "Question: Do the studies in United Nations for gender equality?\n",
            "\n",
            "\"The United Nations has been actively promoting gender equality and women's empowerment.\n",
            "\n",
            "\"\n",
            "\n",
            "Question: Do the studies in United Nations for gender equality?\n",
            "\n",
            "\"The United Nations has been actively promoting gender equality and women's empowerment.\n",
            "\n",
            "\"\n",
            "\n",
            "Question: Do the studies in United Nations for gender equality?\n",
            "\n",
            "\"The United Nations has been actively promoting gender equality and women's empowerment.\n",
            "\n",
            "\"\n",
            "\n",
            "Question: Do the studies in United Nations for gender equality?\n",
            "\n",
            "\"The United Nations has been actively promoting gender equality and women's empowerment.\n",
            "\n",
            "\"\n",
            "\n",
            "Question: Do\n"
          ]
        }
      ]
    },
    {
      "cell_type": "markdown",
      "source": [
        "## T5 Answers"
      ],
      "metadata": {
        "id": "S9eCjkGu2owc"
      }
    },
    {
      "cell_type": "code",
      "source": [
        "strings"
      ],
      "metadata": {
        "colab": {
          "base_uri": "https://localhost:8080/"
        },
        "id": "GFyKNOhYyqQp",
        "outputId": "c2faabdf-384e-4dcf-a07e-44f87a75fe86"
      },
      "execution_count": 84,
      "outputs": [
        {
          "output_type": "execute_result",
          "data": {
            "text/plain": [
              "('Promoting gender equality requires engaging men and boys as allies in the fight against gender discrimination.',\n",
              " \"The Council of Europe's Convention on preventing and combating violence against women and domestic violence, the first legally binding instrument in Europe in the field of violence against women,[14] came into force in 2014.\",\n",
              " 'Efforts are being made to bridge this gap and ensure equal educational opportunities for all genders.',\n",
              " 'Gender equality is the goal, while gender neutrality and gender equity are practices and ways of thinking that help in achieving the goal.',\n",
              " \"The United Nations has been actively promoting gender equality and women's empowerment.\")"
            ]
          },
          "metadata": {},
          "execution_count": 84
        }
      ]
    },
    {
      "cell_type": "code",
      "source": [
        "final_query"
      ],
      "metadata": {
        "colab": {
          "base_uri": "https://localhost:8080/",
          "height": 127
        },
        "id": "o6vnwE5CsXjF",
        "outputId": "445b01a6-20e0-4818-a226-52bfc50e1f1b"
      },
      "execution_count": 68,
      "outputs": [
        {
          "output_type": "execute_result",
          "data": {
            "text/plain": [
              "'Use the below articles on the gender equality to answer the subsequent question. If the answer cannot be found in the articles, write \"I could not find an answer.\"\\n\\nWikipedia article section:\\n\"\"\"\\nPromoting gender equality requires engaging men and boys as allies in the fight against gender discrimination.\\n\"\"\"\\n\\nWikipedia article section:\\n\"\"\"\\nThe Council of Europe\\'s Convention on preventing and combating violence against women and domestic violence, the first legally binding instrument in Europe in the field of violence against women,[14] came into force in 2014.\\n\"\"\"\\n\\nWikipedia article section:\\n\"\"\"\\nEfforts are being made to bridge this gap and ensure equal educational opportunities for all genders.\\n\"\"\"\\n\\nWikipedia article section:\\n\"\"\"\\nGender equality is the goal, while gender neutrality and gender equity are practices and ways of thinking that help in achieving the goal.\\n\"\"\"\\n\\nWikipedia article section:\\n\"\"\"\\nThe United Nations has been actively promoting gender equality and women\\'s empowerment.\\n\"\"\"\\n\\nQuestion: Wht are the studies in United Nations for gender equality?'"
            ],
            "application/vnd.google.colaboratory.intrinsic+json": {
              "type": "string"
            }
          },
          "metadata": {},
          "execution_count": 68
        }
      ]
    },
    {
      "cell_type": "code",
      "source": [
        "import torch\n",
        "from transformers import T5Tokenizer, T5ForConditionalGeneration\n",
        "\n",
        "# Load pre-trained T5 model and tokenizer\n",
        "model_name = \"t5-base\"\n",
        "model = T5ForConditionalGeneration.from_pretrained(model_name)\n",
        "tokenizer = T5Tokenizer.from_pretrained(model_name, model_max_length=512)  # Set model_max_length explicitly\n",
        "\n",
        "# Splitting the context and the question with a newline character\n",
        "prompt = (\n",
        "    \"Use the below articles on the gender equality to answer the subsequent question: \"\n",
        "    \"Promoting gender equality requires engaging men and boys as allies in the fight against gender discrimination.\"\n",
        "    \"The Council of Europe's Convention on preventing and combating violence against women and domestic violence, \"\n",
        "    \"the first legally binding instrument in Europe in the field of violence against women,[14] came into force in 2014. \"\n",
        "    \"Efforts are being made to bridge this gap and ensure equal educational opportunities for all genders. \"\n",
        "    \"Gender equality is the goal, while gender neutrality and gender equity are practices and ways of thinking that help in achieving the goal.\\n\"\n",
        "    \"What are the studies in United Nations for gender equality?\"\n",
        ")\n",
        "\n",
        "# Encode the prompt to tensor\n",
        "input_ids = tokenizer(prompt, return_tensors=\"pt\", truncation=True).input_ids\n",
        "\n",
        "# Generate a response\n",
        "output = model.generate(\n",
        "    input_ids,\n",
        "    do_sample=True,\n",
        "    top_k=10,\n",
        "    top_p=0.9,\n",
        "    temperature=1,\n",
        "    max_length=100,\n",
        ")\n",
        "\n",
        "# Decode the generated text back to string\n",
        "generated_text = tokenizer.decode(output[0], skip_special_tokens=True)\n",
        "\n",
        "print(generated_text)\n"
      ],
      "metadata": {
        "colab": {
          "base_uri": "https://localhost:8080/"
        },
        "id": "j8acAZbYraEQ",
        "outputId": "7ebd601c-fe16-4ee7-ba37-9b9d1ef1e8ac"
      },
      "execution_count": 75,
      "outputs": [
        {
          "output_type": "stream",
          "name": "stdout",
          "text": [
            "False distances and falsehoods are false\n"
          ]
        }
      ]
    },
    {
      "cell_type": "code",
      "source": [
        "import torch\n",
        "from transformers import T5Tokenizer, T5ForConditionalGeneration\n",
        "\n",
        "# Load pre-trained T5 model and tokenizer\n",
        "model_name = \"t5-base\"\n",
        "model = T5ForConditionalGeneration.from_pretrained(model_name)\n",
        "tokenizer = T5Tokenizer.from_pretrained(model_name, model_max_length=512)\n",
        "\n",
        "# Define title, context and question\n",
        "title = \"Gender Equality Efforts\"\n",
        "context = (\n",
        "    \"Gender equality is a vital societal goal that encompasses a wide array of studies and research efforts.\",\n",
        "    \"These studies investigate various aspects of gender disparities, including the gender wage gap, representation in leadership roles, violence against women, healthcare access, and the impact of societal norms and media representations on gender roles.\",\n",
        "    \"Researchers employ diverse methodologies, from quantitative data analysis to qualitative sociocultural examinations, to shed light on these complex issues.\",\n",
        "    \"The findings from these studies serve as a crucial foundation for advocacy, policy changes, and social awareness campaigns, ultimately striving to create a more equitable and inclusive world where all individuals, regardless of their gender, can enjoy equal rights and opportunities.\"\n",
        ")\n",
        "question = \"What are the studies for gender equality?\"\n",
        "\n",
        "# Format the prompt using the chosen format\n",
        "prompt = f\"Please answer a question about the following article about {title}:\\n\\n{context}\\n\\n{question}\"\n",
        "\n",
        "# Encode the prompt to tensor\n",
        "input_ids = tokenizer(prompt, return_tensors=\"pt\", truncation=True).input_ids\n",
        "\n",
        "# Generate a response using the specified parameters\n",
        "output = model.generate(\n",
        "    input_ids,\n",
        "    do_sample=True,\n",
        "    top_k=10,\n",
        "    top_p=0.9,\n",
        "    temperature=1,\n",
        "    max_length=1000,\n",
        ")\n",
        "\n",
        "# Decode the generated text back to string\n",
        "generated_text = tokenizer.decode(output[0], skip_special_tokens=True)\n",
        "\n",
        "print(generated_text)\n"
      ],
      "metadata": {
        "colab": {
          "base_uri": "https://localhost:8080/"
        },
        "id": "TsL1DPJj0iaa",
        "outputId": "18c4685b-5173-4a64-d248-051ef53cd430"
      },
      "execution_count": 100,
      "outputs": [
        {
          "output_type": "stream",
          "name": "stdout",
          "text": [
            "', gender inequality, 'the gender wage gap, representation in leadership roles, violence against women, healthcare access, and the impact of societal norms and media representations on gender roles.', 'These studies serve as a crucial foundation for advocacy, policy changes, and social awareness campaigns, ultimately striving to create a more equitable and inclusive world where all individuals, regardless of their gender, can enjoy equal rights and opportunities.', 'What are the studies for gender equality?\n"
          ]
        }
      ]
    },
    {
      "cell_type": "markdown",
      "source": [
        "## Bert Answers"
      ],
      "metadata": {
        "id": "BfJvZNMQ2kaM"
      }
    },
    {
      "cell_type": "code",
      "source": [
        "from transformers import BertTokenizer, BertForQuestionAnswering\n",
        "import torch\n",
        "\n",
        "# Load pre-trained BERT model and tokenizer\n",
        "model_name = 'bert-large-uncased-whole-word-masking-finetuned-squad'\n",
        "model = BertForQuestionAnswering.from_pretrained(model_name)\n",
        "tokenizer = BertTokenizer.from_pretrained(model_name)\n",
        "\n",
        "# Define context and question\n",
        "context = (\n",
        "    \"Use the below articles on the gender equality to answer the subsequent question: \"\n",
        "    \"Promoting gender equality requires engaging men and boys as allies in the fight against gender discrimination.\"\n",
        "    \"The Council of Europe's Convention on preventing and combating violence against women and domestic violence, \"\n",
        "    \"the first legally binding instrument in Europe in the field of violence against women,[14] came into force in 2014. \"\n",
        "    \"Efforts are being made to bridge this gap and ensure equal educational opportunities for all genders. \"\n",
        "    \"Gender equality is the goal, while gender neutrality and gender equity are practices and ways of thinking that help in achieving the goal.\"\n",
        ")\n",
        "question = \"What are the studies in United Nations for gender equality?\"\n",
        "\n",
        "# Tokenize input\n",
        "inputs = tokenizer(question, context, return_tensors='pt', max_length=512, truncation=True)\n",
        "\n",
        "# Get answer\n",
        "answer = model(**inputs)\n",
        "\n",
        "# Get the most likely answer span\n",
        "answer_start = torch.argmax(answer.start_logits)\n",
        "answer_end = torch.argmax(answer.end_logits)\n",
        "\n",
        "# Decode the answer\n",
        "decoded_answer = tokenizer.decode(inputs['input_ids'][0][answer_start:answer_end + 1])\n",
        "\n",
        "print(decoded_answer)\n"
      ],
      "metadata": {
        "colab": {
          "base_uri": "https://localhost:8080/",
          "height": 238,
          "referenced_widgets": [
            "d8032ed8e6144f21b145329d8aa97dcb",
            "3e1f9e289eb14cec9271ec5352026b55",
            "e949a4f9a06b4bd29b55eb9e8ac209cf",
            "e91f961af340425fad143f6726c0c66f",
            "2259d541703f45f181a8dce2b3fda10b",
            "e86d79b5f3d9468f9791e80226da1967",
            "34e908fcbfa840a19139884bba82ae1c",
            "76da74282aec4dbe8b31ea8287531caa",
            "ef7e99e9ecaa4e6db5a5e2ca95e738b5",
            "75436b5f165b4f478313cd90af8540c6",
            "fd66d69d47d74248b68ca7a31ad5ef35",
            "adafbb1584494e59829dbef2fa27488e",
            "f806e020d10e4fb1b116c614fff65b61",
            "fb2b62f847d54854883db6f92483c62f",
            "52c80e7bfa064a31a6b85f3f9fe97f12",
            "b782244873bf4f2c9d10c109c0163b35",
            "87ba8b0ae16e45e7ad5c5c8a653c15dc",
            "71232624038942938775a193c8238482",
            "ae18b98cc397421c8c1c02ab6f34cf91",
            "dcde3a711e5e4e3db07c2d2c926039a9",
            "9bac462e3a3e4750a9e06ff752fb6a61",
            "c864f1450c30422388dc7b6cc1b8990d",
            "02ed0c30f7ae46baa8793ce83fd266f8",
            "7045e124386649c08b4e47f5c5025d5c",
            "7450d0c2817a40ee94452b0afdfc5510",
            "4ffc40e062b84163ac4f9a9ce5a32225",
            "b1e5df8bd9eb4e0698dcb8ae2c8fee24",
            "cacd17f0ae2949e0a2de60120dcf6c2b",
            "4f5412a5fb9a46acbd76fc003f60ea5a",
            "5a2055a64f024fe3905f6f05a992d966",
            "c7ac5e408896474986f9aa59a1ad8987",
            "aac4489d06b14d4c8873073ca6157633",
            "0533ab7299a042b692415eab87d3855c",
            "ef58c5076a7b4293bc852bd542bb92ef",
            "6315017e62e84209ab721216d49cd127",
            "2ee8e91d7acf4fd2a1cc38ae81cbc939",
            "e5ac08450aeb42d5b6afba49d528e068",
            "a168e21533094a9c8b3621e94c522282",
            "a02e0061dc974747a0b31fd9804aaebb",
            "f832338ccc0c4edfba642161723badb0",
            "3c2f5fd6ad414e4f97e8c9b7f0a05036",
            "0c0f5a1472764fceabdb9effa36b8918",
            "bbd77afe592c428cb3f2ff0c46c1f370",
            "917ca82f6eac41018c32686af65d8b66"
          ]
        },
        "id": "CCORK-o7vh5H",
        "outputId": "a4198493-d45d-416f-c011-4e5775a7224b"
      },
      "execution_count": 76,
      "outputs": [
        {
          "output_type": "display_data",
          "data": {
            "text/plain": [
              "Downloading (…)lve/main/config.json:   0%|          | 0.00/443 [00:00<?, ?B/s]"
            ],
            "application/vnd.jupyter.widget-view+json": {
              "version_major": 2,
              "version_minor": 0,
              "model_id": "d8032ed8e6144f21b145329d8aa97dcb"
            }
          },
          "metadata": {}
        },
        {
          "output_type": "display_data",
          "data": {
            "text/plain": [
              "Downloading model.safetensors:   0%|          | 0.00/1.34G [00:00<?, ?B/s]"
            ],
            "application/vnd.jupyter.widget-view+json": {
              "version_major": 2,
              "version_minor": 0,
              "model_id": "adafbb1584494e59829dbef2fa27488e"
            }
          },
          "metadata": {}
        },
        {
          "output_type": "stream",
          "name": "stderr",
          "text": [
            "Some weights of the model checkpoint at bert-large-uncased-whole-word-masking-finetuned-squad were not used when initializing BertForQuestionAnswering: ['bert.pooler.dense.bias', 'bert.pooler.dense.weight']\n",
            "- This IS expected if you are initializing BertForQuestionAnswering from the checkpoint of a model trained on another task or with another architecture (e.g. initializing a BertForSequenceClassification model from a BertForPreTraining model).\n",
            "- This IS NOT expected if you are initializing BertForQuestionAnswering from the checkpoint of a model that you expect to be exactly identical (initializing a BertForSequenceClassification model from a BertForSequenceClassification model).\n"
          ]
        },
        {
          "output_type": "display_data",
          "data": {
            "text/plain": [
              "Downloading (…)solve/main/vocab.txt:   0%|          | 0.00/232k [00:00<?, ?B/s]"
            ],
            "application/vnd.jupyter.widget-view+json": {
              "version_major": 2,
              "version_minor": 0,
              "model_id": "02ed0c30f7ae46baa8793ce83fd266f8"
            }
          },
          "metadata": {}
        },
        {
          "output_type": "display_data",
          "data": {
            "text/plain": [
              "Downloading (…)okenizer_config.json:   0%|          | 0.00/28.0 [00:00<?, ?B/s]"
            ],
            "application/vnd.jupyter.widget-view+json": {
              "version_major": 2,
              "version_minor": 0,
              "model_id": "ef58c5076a7b4293bc852bd542bb92ef"
            }
          },
          "metadata": {}
        },
        {
          "output_type": "stream",
          "name": "stdout",
          "text": [
            "gender neutrality and gender equity\n"
          ]
        }
      ]
    },
    {
      "cell_type": "code",
      "source": [
        "query = \"Wht are the studies in United Nations for gender equality?\"\n",
        "strings, relatednesses = similarity(query, df, top_n=5)\n",
        "context = ''\n",
        "for item in strings:\n",
        "    context = context + item\n",
        "\n",
        "print(context)\n",
        "\n",
        "from transformers import pipeline\n",
        "question_answerer = pipeline(\"question-answering\", model='distilbert-base-uncased-distilled-squad')\n",
        "\n",
        "result = question_answerer(question=query, context=context)\n",
        "print(\n",
        "f\"Answer: '{result['answer']}', score: {round(result['score'], 4)}, start: {result['start']}, end: {result['end']}\")"
      ],
      "metadata": {
        "colab": {
          "base_uri": "https://localhost:8080/"
        },
        "id": "R94-2NUr2i_D",
        "outputId": "a16bee94-4d01-471f-8903-2e52c36fd83d"
      },
      "execution_count": 101,
      "outputs": [
        {
          "output_type": "stream",
          "name": "stderr",
          "text": [
            "WARNING:sentence_transformers.SentenceTransformer:No sentence-transformers model found with name /root/.cache/torch/sentence_transformers/bert-base-uncased. Creating a new one with MEAN pooling.\n"
          ]
        },
        {
          "output_type": "stream",
          "name": "stdout",
          "text": [
            "Promoting gender equality requires engaging men and boys as allies in the fight against gender discrimination.The Council of Europe's Convention on preventing and combating violence against women and domestic violence, the first legally binding instrument in Europe in the field of violence against women,[14] came into force in 2014.Efforts are being made to bridge this gap and ensure equal educational opportunities for all genders.Gender equality is the goal, while gender neutrality and gender equity are practices and ways of thinking that help in achieving the goal.The United Nations has been actively promoting gender equality and women's empowerment.\n",
            "Answer: 'The United Nations has been actively promoting gender equality and women's empowerment.', score: 0.0922, start: 573, end: 660\n"
          ]
        }
      ]
    }
  ]
}